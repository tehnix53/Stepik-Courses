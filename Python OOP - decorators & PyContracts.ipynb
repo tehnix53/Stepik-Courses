{
 "cells": [
  {
   "cell_type": "markdown",
   "metadata": {},
   "source": [
    "## decorators"
   ]
  },
  {
   "cell_type": "code",
   "execution_count": null,
   "metadata": {},
   "outputs": [],
   "source": [
    "# декторатор оборачивается вокруг функции\n",
    "def decorator(func):\n",
    "    print('start')\n",
    "    func()\n",
    "    print('stop')"
   ]
  },
  {
   "cell_type": "code",
   "execution_count": 6,
   "metadata": {},
   "outputs": [
    {
     "name": "stdout",
     "output_type": "stream",
     "text": [
      "start\n",
      "0123456789stop\n"
     ]
    }
   ],
   "source": [
    "@decorator\n",
    "def range_ten():\n",
    "    for i in range(10):\n",
    "        print (i, end = '')"
   ]
  },
  {
   "cell_type": "code",
   "execution_count": 147,
   "metadata": {},
   "outputs": [
    {
     "data": {
      "text/plain": [
       "True"
      ]
     },
     "execution_count": 147,
     "metadata": {},
     "output_type": "execute_result"
    }
   ],
   "source": [
    "# isinstance - встроенная функция, истинности принадлежности\n",
    "isinstance(10,(float,int,str))"
   ]
  },
  {
   "cell_type": "code",
   "execution_count": null,
   "metadata": {},
   "outputs": [],
   "source": [
    "# assert - условия, нарушение которых приводит к ошибке\n",
    "def gcd(a, b):\n",
    "    assert isinstance(a,int) and isinstance(b,int)\n",
    "    assert a>0 and b >0\n",
    "    while b:\n",
    "        a, b = b, a % b\n",
    "    return a\n",
    "gcd(1,2)"
   ]
  },
  {
   "cell_type": "code",
   "execution_count": 35,
   "metadata": {},
   "outputs": [
    {
     "name": "stdout",
     "output_type": "stream",
     "text": [
      "Остаток при делении на три - два.\n"
     ]
    }
   ],
   "source": [
    "x =8\n",
    "if x%3 == 0:\n",
    "    print(\"Число делится на три.\")\n",
    "elif x%3 == 1:\n",
    "    print(\"При делении на три остаток - один.\")\n",
    "else:\n",
    "    assert x%3 == 2  # assert здесь является комментарием, гарантирующим истинность утверждения\n",
    "    print(\"Остаток при делении на три - два.\")"
   ]
  },
  {
   "cell_type": "markdown",
   "metadata": {},
   "source": [
    "## PyContracts"
   ]
  },
  {
   "cell_type": "code",
   "execution_count": 37,
   "metadata": {},
   "outputs": [],
   "source": [
    "from contracts import contract"
   ]
  },
  {
   "cell_type": "code",
   "execution_count": 148,
   "metadata": {},
   "outputs": [],
   "source": [
    "# pre-condition\n",
    "@contract(x='int,>=0')\n",
    "def f(x):\n",
    "    pass\n",
    "# f(1)\n",
    "\n",
    "# post-condition\n",
    "@contract(returns='int,>=0')\n",
    "def f(x):\n",
    "    return x\n",
    "# f(1)\n",
    "\n",
    "# all inclusive\n",
    "@contract(n='int,>=0', returns='int,>=0')\n",
    "def f1(n):\n",
    "    pass"
   ]
  },
  {
   "cell_type": "code",
   "execution_count": null,
   "metadata": {},
   "outputs": [],
   "source": [
    "# AND-condition\n",
    "@contract(x='>=0,<=1')\n",
    "def f(x):\n",
    "    pass\n",
    "\n",
    "# OR-condition\n",
    "@contract(x='<0|>1')\n",
    "def f(x):\n",
    "    pass\n",
    "\n",
    "@contract(x='(int|float),>=0')\n",
    "def f(x):\n",
    "    pass"
   ]
  },
  {
   "cell_type": "code",
   "execution_count": null,
   "metadata": {},
   "outputs": [],
   "source": [
    "# list\n",
    "list[length contract](elements contract)\n",
    "list[>0] — непустой список.\n",
    "list(int) — список целых чисел, возможно пустой.\n",
    "list(int,>0) — список положительных целых, возможно пустой.\n",
    "list[>0,<=100](int,>0,<=1000) — непустой список из не более\n",
    "ста положительных целых чисел, не превышающих по значению тысячу."
   ]
  },
  {
   "cell_type": "code",
   "execution_count": null,
   "metadata": {},
   "outputs": [],
   "source": [
    "# dict\n",
    "dict[length contract](key contract: value contract)\n",
    "dict[>0] — непустой словарь.\n",
    "dict(str:*) — словарь со строками в качестве ключей и любыми типами значений.\n",
    "dict[>0](str:(int,>0)) — непустой словарь с ключами-строками и \n",
    "положительными целочисленными значениями."
   ]
  },
  {
   "cell_type": "code",
   "execution_count": 134,
   "metadata": {},
   "outputs": [
    {
     "data": {
      "text/plain": [
       "[0, 2, 3, 3, 4, 5]"
      ]
     },
     "execution_count": 134,
     "metadata": {},
     "output_type": "execute_result"
    }
   ],
   "source": [
    "# sample\n",
    "@contract(arr='list[>0], list(int)')\n",
    "def sorting_arr(arr):\n",
    "    return sorted(arr)\n",
    "a = [0,2,3,4,5,3]\n",
    "sorting_arr(a)"
   ]
  }
 ],
 "metadata": {
  "kernelspec": {
   "display_name": "Python 3",
   "language": "python",
   "name": "python3"
  },
  "language_info": {
   "codemirror_mode": {
    "name": "ipython",
    "version": 3
   },
   "file_extension": ".py",
   "mimetype": "text/x-python",
   "name": "python",
   "nbconvert_exporter": "python",
   "pygments_lexer": "ipython3",
   "version": "3.6.8"
  }
 },
 "nbformat": 4,
 "nbformat_minor": 2
}
