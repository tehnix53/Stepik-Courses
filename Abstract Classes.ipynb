{
 "cells": [
  {
   "cell_type": "markdown",
   "metadata": {},
   "source": [
    "## Простое наследование классов"
   ]
  },
  {
   "cell_type": "code",
   "execution_count": 3,
   "metadata": {},
   "outputs": [
    {
     "name": "stdout",
     "output_type": "stream",
     "text": [
      "A:\t ['method_A', 'var_A']\n",
      "B(A):\t ['method_A', 'method_B', 'var_A', 'var_B']\n",
      "C(B):\t ['method_A', 'method_B', 'method_C', 'var_A', 'var_B', 'var_C']\n",
      "\n"
     ]
    }
   ],
   "source": [
    "class A:\n",
    "    var_A = 1\n",
    "    def method_A(self):\n",
    "        print(\"A\")\n",
    "\n",
    "class B(A):\n",
    "    var_B = 2\n",
    "    def method_B(self):\n",
    "        print(\"B\")\n",
    "\n",
    "class C(B): \n",
    "    var_C = 3\n",
    "    def method_C(self):\n",
    "        print(\"C\")\n",
    "\n",
    "\n",
    "print(\"A:\\t\", list(filter(lambda x: \"__\" not in x, dir(A))))\n",
    "print(\"B(A):\\t\", list(filter(lambda x: \"__\" not in x, dir(B))))\n",
    "print(\"C(B):\\t\", list(filter(lambda x: \"__\" not in x, dir(C))))\n",
    "print()"
   ]
  },
  {
   "cell_type": "markdown",
   "metadata": {},
   "source": [
    "## Простое функциональное программирование"
   ]
  },
  {
   "cell_type": "code",
   "execution_count": 14,
   "metadata": {},
   "outputs": [
    {
     "data": {
      "text/plain": [
       "[10, 20, 30, 40, 50, 60, 70]"
      ]
     },
     "execution_count": 14,
     "metadata": {},
     "output_type": "execute_result"
    }
   ],
   "source": [
    "# LAMBDA функция + MAP - применить к списку\n",
    "\n",
    "old_list = ['1', '2', '3', '4', '5', '6', '7']\n",
    "\n",
    "new_list = list(map(lambda x: int(x)*10, old_list))\n",
    "new_list"
   ]
  },
  {
   "cell_type": "code",
   "execution_count": 16,
   "metadata": {},
   "outputs": [
    {
     "data": {
      "text/plain": [
       "['6', '7']"
      ]
     },
     "execution_count": 16,
     "metadata": {},
     "output_type": "execute_result"
    }
   ],
   "source": [
    "# LAMBDA функция + MAP - отфильтровать список\n",
    "\n",
    "old_list = ['1', '2', '3', '4', '5', '6', '7']\n",
    "\n",
    "new_list = list(filter(lambda x: int(x)>5, old_list))\n",
    "new_list"
   ]
  },
  {
   "cell_type": "code",
   "execution_count": 23,
   "metadata": {},
   "outputs": [
    {
     "name": "stdout",
     "output_type": "stream",
     "text": [
      "['A', 'B', 'C', 'In', 'Out', '_', '_10', '_12', '_13', '_14', '_15', '_16', '_17', '_18', '_19', '_2', '_20', '_21', '_22', '_4', '_5', '_6', '_7', '__', '___', '__builtin__', '__builtins__', '__doc__', '__loader__', '__name__', '__package__', '__spec__', '_dh', '_i', '_i1', '_i10', '_i11', '_i12', '_i13', '_i14', '_i15', '_i16', '_i17', '_i18', '_i19', '_i2', '_i20', '_i21', '_i22', '_i23', '_i3', '_i4', '_i5', '_i6', '_i7', '_i8', '_i9', '_ih', '_ii', '_iii', '_oh', 'abc', 'change', 'exit', 'fast', 'get_ipython', 'new_list', 'old_list', 'quit']\n"
     ]
    }
   ],
   "source": [
    "# DIR - выводит все атрибуты объекта или всех объектов, если без аргумента\n",
    "print(dir())"
   ]
  },
  {
   "cell_type": "markdown",
   "metadata": {},
   "source": [
    "## Наследование с переопределением"
   ]
  },
  {
   "cell_type": "code",
   "execution_count": 24,
   "metadata": {},
   "outputs": [
    {
     "name": "stdout",
     "output_type": "stream",
     "text": [
      "Method in A, value = 13\n",
      "Method in B, value = 13\n",
      "Method in C, value = 6\n",
      "\n"
     ]
    }
   ],
   "source": [
    "class A:\n",
    "    value = 13\n",
    "    \n",
    "    def some_method(self):\n",
    "        print(f\"Method in A, value = {self.value}\")\n",
    "        \n",
    "        \n",
    "class B(A):\n",
    "    \n",
    "    def some_method(self):\n",
    "        print(f\"Method in B, value = {self.value}\")\n",
    "        \n",
    "\n",
    "class C(B):\n",
    "    value = 6\n",
    "    \n",
    "    def some_method(self):\n",
    "        print(f\"Method in C, value = {self.value}\")\n",
    "\n",
    "        \n",
    "A().some_method()\n",
    "B().some_method()\n",
    "C().some_method()\n",
    "print()"
   ]
  },
  {
   "cell_type": "markdown",
   "metadata": {},
   "source": [
    "## Class week test"
   ]
  },
  {
   "cell_type": "code",
   "execution_count": 48,
   "metadata": {},
   "outputs": [
    {
     "data": {
      "text/plain": [
       "'Abstract Base Classes (ABCs) according to PEP 3119.'"
      ]
     },
     "execution_count": 48,
     "metadata": {},
     "output_type": "execute_result"
    }
   ],
   "source": [
    "import abc\n",
    "abc.__doc__"
   ]
  },
  {
   "cell_type": "code",
   "execution_count": 50,
   "metadata": {},
   "outputs": [],
   "source": [
    "from abc import ABC, abstractmethod"
   ]
  },
  {
   "cell_type": "code",
   "execution_count": null,
   "metadata": {},
   "outputs": [],
   "source": [
    "# абстрактный клвсс не имеет экземпляров - это явно запрещается!\n",
    "# абстрактный класс описывает интерфейс для потомков"
   ]
  },
  {
   "cell_type": "code",
   "execution_count": 15,
   "metadata": {},
   "outputs": [],
   "source": [
    "import math\n",
    "\n",
    "\n",
    "class Base(ABC):\n",
    "    # это интерфейс для всех предков\n",
    "    def __init__(self, data, result):\n",
    "        self.data = data\n",
    "        self.result = result\n",
    "\n",
    "    # это интерфейс для всех предков\n",
    "    def get_answer(self):\n",
    "        return [int(x >= 0.5) for x in self.data]\n",
    "\n",
    "    # это интерфейс для всех предков\n",
    "    def get_score(self):\n",
    "        ans = self.get_answer()\n",
    "        return sum([int(x == y) for x, y in zip(ans, self.result)]) / len(ans)\n",
    "\n",
    "    # это метод, который будет переопределен\n",
    "    @abstractmethod\n",
    "    def get_loss(self):\n",
    "        pass\n",
    "\n",
    "\n",
    "class A(Base):\n",
    "\n",
    "    def get_loss(self):\n",
    "        return sum([(x - y) * (x - y) for x, y in zip(self.data, self.result)])\n",
    "\n",
    "\n",
    "class B(Base):\n",
    "\n",
    "    def get_loss(self):\n",
    "        return -sum([y * math.log(x) + (1 - y) * math.log(1 - x)\n",
    "                     for x, y in zip(self.data, self.result)])\n",
    "\n",
    "    def get_pre(self):\n",
    "        ans = self.get_answer()\n",
    "        res = [int(x == 1 and y == 1) for x, y in zip(ans, self.result)]\n",
    "        return sum(res) / sum(ans)\n",
    "\n",
    "    def get_rec(self):\n",
    "        ans = self.get_answer()\n",
    "        res = [int(x == 1 and y == 1) for x, y in zip(ans, self.result)]\n",
    "        return sum(res) / sum(self.result)\n",
    "\n",
    "    def get_score(self):\n",
    "        pre = self.get_pre()\n",
    "        rec = self.get_rec()\n",
    "        return 2 * pre * rec / (pre + rec)\n",
    "\n",
    "\n",
    "class C(Base):\n",
    "\n",
    "    def get_loss(self):\n",
    "        return sum([abs(x - y) for x, y in zip(self.data, self.result)])"
   ]
  }
 ],
 "metadata": {
  "kernelspec": {
   "display_name": "Python 3",
   "language": "python",
   "name": "python3"
  },
  "language_info": {
   "codemirror_mode": {
    "name": "ipython",
    "version": 3
   },
   "file_extension": ".py",
   "mimetype": "text/x-python",
   "name": "python",
   "nbconvert_exporter": "python",
   "pygments_lexer": "ipython3",
   "version": "3.6.8"
  }
 },
 "nbformat": 4,
 "nbformat_minor": 2
}
