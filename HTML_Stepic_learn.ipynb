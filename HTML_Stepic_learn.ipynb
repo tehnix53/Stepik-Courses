{
 "cells": [
  {
   "cell_type": "code",
   "execution_count": 1,
   "metadata": {},
   "outputs": [
    {
     "data": {
      "text/html": [
       "\n",
       "<!-- комментарий -->\n",
       "<!-- tags: single: абзац: <hr>, перенос строки: <br>, курсив: <em>      -->\n",
       "<!-- tags: double заголовок (1-6) уровня: < h1  <h1/>, параграф: <p <p/>   -->\n",
       "\n",
       "<p>\n",
       "...words...<br> ...words...<hr> ...words...<em>...words...\n",
       "</p>"
      ],
      "text/plain": [
       "<IPython.core.display.HTML object>"
      ]
     },
     "metadata": {},
     "output_type": "display_data"
    }
   ],
   "source": [
    "%%HTML <!-- html magic! -->\n",
    "\n",
    "<!-- комментарий -->\n",
    "<!-- tags: single: абзац: <hr>, перенос строки: <br>, курсив: <em>      -->\n",
    "<!-- tags: double заголовок (1-6) уровня: < h1  <h1/>, параграф: <p <p/>   -->\n",
    "\n",
    "<p>\n",
    "...words...<br> ...words...<hr> ...words...<em>...words...\n",
    "</p>"
   ]
  },
  {
   "cell_type": "code",
   "execution_count": 14,
   "metadata": {},
   "outputs": [
    {
     "data": {
      "text/html": [
       "<!-- <a> tag-link + attribs  -->\n",
       "\n",
       "<a href = \"http://www.google.com\" > to google </a>"
      ],
      "text/plain": [
       "<IPython.core.display.HTML object>"
      ]
     },
     "metadata": {},
     "output_type": "display_data"
    }
   ],
   "source": [
    "%%HTML\n",
    "<!-- <a> tag-link + attribs  -->\n",
    "\n",
    "<a href = \"http://www.google.com\" > to google </a>\n"
   ]
  },
  {
   "cell_type": "code",
   "execution_count": 20,
   "metadata": {},
   "outputs": [
    {
     "data": {
      "text/html": [
       "<!-- <a> tag-link in new tab -->\n",
       "\n",
       "<a href = \"http://www.google.com\" target = \"_blank\" > to google </a>"
      ],
      "text/plain": [
       "<IPython.core.display.HTML object>"
      ]
     },
     "metadata": {},
     "output_type": "display_data"
    }
   ],
   "source": [
    "%%HTML\n",
    "<!-- <a> tag-link in new tab -->\n",
    "\n",
    "<a href = \"http://www.google.com\" target = \"_blank\" > to google </a>"
   ]
  },
  {
   "cell_type": "code",
   "execution_count": 28,
   "metadata": {},
   "outputs": [
    {
     "data": {
      "text/html": [
       "<!-- attrib make disable function -->\n",
       "\n",
       "<button >нажми </button>\n",
       "<button disabled>нельзя нажимать </button>"
      ],
      "text/plain": [
       "<IPython.core.display.HTML object>"
      ]
     },
     "metadata": {},
     "output_type": "display_data"
    }
   ],
   "source": [
    "%%HTML\n",
    "<!-- attrib make disable function -->\n",
    "\n",
    "<button >нажми </button>\n",
    "<button disabled>нельзя нажимать </button>"
   ]
  },
  {
   "cell_type": "code",
   "execution_count": 30,
   "metadata": {},
   "outputs": [
    {
     "data": {
      "text/html": [
       "\n",
       "<!DOCTYPE html> <!--  стандарт написания документа html5 -->\n",
       "\n",
       "<html>\n",
       "    <head>\n",
       "        <meta charset = 'utf-8'>\n",
       "    </head>\n",
       "    \n",
       "    <body>\n",
       "        <h1> Title </h1>\n",
       "        <p> text </p>\n",
       "    </body>\n",
       "</html>\n"
      ],
      "text/plain": [
       "<IPython.core.display.HTML object>"
      ]
     },
     "metadata": {},
     "output_type": "display_data"
    }
   ],
   "source": [
    "%%HTML\n",
    "\n",
    "<!DOCTYPE html> <!--  стандарт написания документа html5 -->\n",
    "\n",
    "<html>\n",
    "    <head>\n",
    "        <meta charset = 'utf-8'>\n",
    "    </head>\n",
    "    \n",
    "    <body>\n",
    "        <h1> Title </h1>\n",
    "        <p> text </p>\n",
    "    </body>\n",
    "</html>"
   ]
  },
  {
   "cell_type": "code",
   "execution_count": 32,
   "metadata": {},
   "outputs": [
    {
     "data": {
      "text/html": [
       "\n",
       "<!--еще блочные элементы:  -->\n",
       "<!-- статьи: <article>, разделы: <section>, длинные цитаты: <blockquote>, общего назначения: <div> -->\n",
       "                \n",
       "<!--еще строчные элементы: -->\n",
       "<!-- ссылки: <a>, выделенные слова: <em>, важные слова: <strong>, короткие цитаты: <q>, "
      ],
      "text/plain": [
       "<IPython.core.display.HTML object>"
      ]
     },
     "metadata": {},
     "output_type": "display_data"
    }
   ],
   "source": [
    "%%HTML\n",
    "\n",
    "<!--еще блочные элементы:  -->\n",
    "<!-- статьи: <article>, разделы: <section>, длинные цитаты: <blockquote>, общего назначения: <div> -->\n",
    "                \n",
    "<!--еще строчные элементы: -->\n",
    "<!-- ссылки: <a>, выделенные слова: <em>, важные слова: <strong>, короткие цитаты: <q>, аббревиатуры: <abbr>"
   ]
  },
  {
   "cell_type": "markdown",
   "metadata": {},
   "source": [
    "## Списки"
   ]
  },
  {
   "cell_type": "code",
   "execution_count": 34,
   "metadata": {},
   "outputs": [
    {
     "data": {
      "text/html": [
       "<!-- списки маркированные-->\n",
       "<ul>\n",
       "    <li> картошка </li>\n",
       "    <li> моркова </li>\n",
       "    <li> свекла </li>\n",
       "</ul>"
      ],
      "text/plain": [
       "<IPython.core.display.HTML object>"
      ]
     },
     "metadata": {},
     "output_type": "display_data"
    }
   ],
   "source": [
    "%%HTML\n",
    "<!-- списки маркированные-->\n",
    "<ul>\n",
    "    <li> картошка </li>\n",
    "    <li> моркова </li>\n",
    "    <li> свекла </li>\n",
    "</ul>"
   ]
  },
  {
   "cell_type": "code",
   "execution_count": 37,
   "metadata": {},
   "outputs": [
    {
     "data": {
      "text/html": [
       "<!-- списки нумерованные -->\n",
       "<ol>\n",
       "    <li>довести воду до кипения</li>\n",
       "    <li>засыпать ингредиенты</li>\n",
       "    <li>варить 15 минут</li>\n",
       "</ol>"
      ],
      "text/plain": [
       "<IPython.core.display.HTML object>"
      ]
     },
     "metadata": {},
     "output_type": "display_data"
    }
   ],
   "source": [
    "%%html\n",
    "<!-- списки нумерованные -->\n",
    "<ol>\n",
    "    <li>довести воду до кипения</li>\n",
    "    <li>засыпать ингредиенты</li>\n",
    "    <li>варить 15 минут</li>\n",
    "</ol>\n"
   ]
  },
  {
   "cell_type": "code",
   "execution_count": 38,
   "metadata": {},
   "outputs": [
    {
     "data": {
      "text/html": [
       "<!-- список определений -->\n",
       "\n",
       "<dl>\n",
       "    <dt>Борщ</dt><dd>разновидность супа на основе свеклы</dd>\n",
       "    <dt>Гаспачо</dt><dd>легкий холодный суп</dd>\n",
       "\n",
       "</dl>"
      ],
      "text/plain": [
       "<IPython.core.display.HTML object>"
      ]
     },
     "metadata": {},
     "output_type": "display_data"
    }
   ],
   "source": [
    "%%html\n",
    "<!-- список определений -->\n",
    "\n",
    "<dl>\n",
    "    <dt>Борщ</dt><dd>разновидность супа на основе свеклы</dd>\n",
    "    <dt>Гаспачо</dt><dd>легкий холодный суп</dd>\n",
    "\n",
    "</dl>"
   ]
  },
  {
   "cell_type": "code",
   "execution_count": 40,
   "metadata": {},
   "outputs": [
    {
     "data": {
      "text/html": [
       "\n",
       "<!-- вложенные спики -->\n",
       "\n",
       "<ul>\n",
       "  <li>Омлет\n",
       "    <ul>\n",
       "      <li>Молоко</li>\n",
       "      <li>Яйца</li>\n",
       "    </ul>\n",
       "  </li>\n",
       "  <li>Блинчики\n",
       "    <ul>\n",
       "      <li>Молоко</li>\n",
       "      <li>Яйца</li>\n",
       "      <li>Мука</li>\n",
       "      <li>Сахар</li>\n",
       "      <li>Соль</li>\n",
       "      <li>Разрыхлитель</li>\n",
       "    </ul>\n",
       "  </li>\n",
       "  <li>Торт</li>\n",
       "  <li>Пирог</li>\n",
       "</ul>"
      ],
      "text/plain": [
       "<IPython.core.display.HTML object>"
      ]
     },
     "metadata": {},
     "output_type": "display_data"
    }
   ],
   "source": [
    "%%html\n",
    "\n",
    "<!-- вложенные спики -->\n",
    "\n",
    "<ul>\n",
    "  <li>Омлет\n",
    "    <ul>\n",
    "      <li>Молоко</li>\n",
    "      <li>Яйца</li>\n",
    "    </ul>\n",
    "  </li>\n",
    "  <li>Блинчики\n",
    "    <ul>\n",
    "      <li>Молоко</li>\n",
    "      <li>Яйца</li>\n",
    "      <li>Мука</li>\n",
    "      <li>Сахар</li>\n",
    "      <li>Соль</li>\n",
    "      <li>Разрыхлитель</li>\n",
    "    </ul>\n",
    "  </li>\n",
    "  <li>Торт</li>\n",
    "  <li>Пирог</li>\n",
    "</ul>\n"
   ]
  },
  {
   "cell_type": "markdown",
   "metadata": {},
   "source": [
    "## Каринки"
   ]
  },
  {
   "cell_type": "code",
   "execution_count": null,
   "metadata": {},
   "outputs": [],
   "source": []
  },
  {
   "cell_type": "code",
   "execution_count": 30,
   "metadata": {},
   "outputs": [
    {
     "data": {
      "text/html": [
       "<img\n",
       "  src=\"https://img3.goodfon.ru/original/1152x864/6/49/koshka-kot-ryzhiy-lapy-lezhit.jpg\"\n",
       "  title=\"Мурка\"\n",
       "  alt=\"Рыжая кошка валяется в снегу\"\n",
       "  width=\"640\"\n",
       "  height=\"480\"\n",
       ">"
      ],
      "text/plain": [
       "<IPython.core.display.HTML object>"
      ]
     },
     "metadata": {},
     "output_type": "display_data"
    }
   ],
   "source": [
    "%%html\n",
    "<img\n",
    "  src=\"https://img3.goodfon.ru/original/1152x864/6/49/koshka-kot-ryzhiy-lapy-lezhit.jpg\"\n",
    "  title=\"Мурка\"\n",
    "  alt=\"Рыжая кошка валяется в снегу\"\n",
    "  width=\"640\"\n",
    "  height=\"480\"\n",
    ">"
   ]
  },
  {
   "cell_type": "code",
   "execution_count": 70,
   "metadata": {},
   "outputs": [
    {
     "data": {
      "text/html": [
       "<!-- картинка с подписью -->\n",
       "\n",
       "<figure>\n",
       "  <img src=\"https://www.google.ru/images/branding/googlelogo/2x/googlelogo_color_120x44dp.png\">\n",
       "  <figcaption>\n",
       "    Лого гугла от ﻿2015 года\n",
       "  </figcaption>\n",
       "﻿</figure>"
      ],
      "text/plain": [
       "<IPython.core.display.HTML object>"
      ]
     },
     "metadata": {},
     "output_type": "display_data"
    }
   ],
   "source": [
    "%%html\n",
    "<!-- картинка с подписью -->\n",
    "\n",
    "<figure>\n",
    "  <img src=\"https://www.google.ru/images/branding/googlelogo/2x/googlelogo_color_120x44dp.png\">\n",
    "  <figcaption>\n",
    "    Лого гугла от ﻿2015 года\n",
    "  </figcaption>\n",
    "﻿</figure>"
   ]
  },
  {
   "cell_type": "code",
   "execution_count": 73,
   "metadata": {},
   "outputs": [
    {
     "data": {
      "text/html": [
       "<!--якорные ссылки -->\n",
       "\n",
       "<h1 id=\"anchor\">Якорь</h1>\n",
       "<!-- Теперь, чтобы сослаться на этот якорь, нужно использовать вот такую ссылку: -->\n",
       "<a href=\"#anchor\">Перейти к якорю</a>\n"
      ],
      "text/plain": [
       "<IPython.core.display.HTML object>"
      ]
     },
     "metadata": {},
     "output_type": "display_data"
    }
   ],
   "source": [
    "%%html\n",
    "<!--якорные ссылки -->\n",
    "\n",
    "<h1 id=\"anchor\">Якорь</h1>\n",
    "<!-- Теперь, чтобы сослаться на этот якорь, нужно использовать вот такую ссылку: -->\n",
    "<a href=\"#anchor\">Перейти к якорю</a>"
   ]
  },
  {
   "cell_type": "markdown",
   "metadata": {},
   "source": [
    "## Таблицы"
   ]
  },
  {
   "cell_type": "code",
   "execution_count": 7,
   "metadata": {},
   "outputs": [
    {
     "data": {
      "text/html": [
       "<!-- Таблицы -->\n",
       "<!-- таблица: <table>, строка: table row <tr>, заголовочные ячейки:\n",
       "            table header <th>, ячейки строки: table data  <td> -->\n",
       "\n",
       "\n",
       "\n",
       "<table>\n",
       "  <tr>\n",
       "    <th>Имя</th>\n",
       "    <th>Возраст</th> \n",
       "    <th>Суперспособность</th>\n",
       "  </tr>\n",
       "  <tr>\n",
       "    <td>Логан</td>\n",
       "    <td>186</td> \n",
       "    <td>Повышенная способность к регенерации</td>\n",
       "  </tr>\n",
       "  <tr>\n",
       "    <td>Профессор икс</td>\n",
       "      <td>94</td>\n",
       "    <td>Чтение мыслей, вызов иллюзий, временного паралича, способность останавливать время</td> \n",
       "  </tr>\n",
       "</table>\n"
      ],
      "text/plain": [
       "<IPython.core.display.HTML object>"
      ]
     },
     "metadata": {},
     "output_type": "display_data"
    }
   ],
   "source": [
    "%%html\n",
    "<!-- Таблицы -->\n",
    "<!-- таблица: <table>, строка: table row <tr>, заголовочные ячейки:\n",
    "            table header <th>, ячейки строки: table data  <td> -->\n",
    "\n",
    "\n",
    "\n",
    "<table>\n",
    "  <tr>\n",
    "    <th>Имя</th>\n",
    "    <th>Возраст</th> \n",
    "    <th>Суперспособность</th>\n",
    "  </tr>\n",
    "  <tr>\n",
    "    <td>Логан</td>\n",
    "    <td>186</td> \n",
    "    <td>Повышенная способность к регенерации</td>\n",
    "  </tr>\n",
    "  <tr>\n",
    "    <td>Профессор икс</td>\n",
    "      <td>94</td>\n",
    "    <td>Чтение мыслей, вызов иллюзий, временного паралича, способность останавливать время</td> \n",
    "  </tr>\n",
    "</table>\n",
    "\n"
   ]
  },
  {
   "cell_type": "code",
   "execution_count": 11,
   "metadata": {},
   "outputs": [
    {
     "data": {
      "text/html": [
       "<table>\n",
       "    <tr>\n",
       "        <td> H  </td>\n",
       "        <td> T </td>\n",
       "    </tr>\n",
       "    <tr>\n",
       "        <td> E - A </td>\n",
       "    </tr>\n",
       "    <tr>\n",
       "        <td> L - B </td>\n",
       "    </tr>\n",
       "    <tr>\n",
       "        <td> L - L </td>\n",
       "    </tr>\n",
       "    <tr>\n",
       "        <td> O - E </td>\n",
       "    </tr>\n",
       "</table>"
      ],
      "text/plain": [
       "<IPython.core.display.HTML object>"
      ]
     },
     "metadata": {},
     "output_type": "display_data"
    }
   ],
   "source": [
    "%%html\n",
    "<table>\n",
    "    <tr>\n",
    "        <td> H  </td>\n",
    "        <td> T </td>\n",
    "    </tr>\n",
    "    <tr>\n",
    "        <td> E - A </td>\n",
    "    </tr>\n",
    "    <tr>\n",
    "        <td> L - B </td>\n",
    "    </tr>\n",
    "    <tr>\n",
    "        <td> L - L </td>\n",
    "    </tr>\n",
    "    <tr>\n",
    "        <td> O - E </td>\n",
    "    </tr>\n",
    "</table>"
   ]
  },
  {
   "cell_type": "code",
   "execution_count": 2,
   "metadata": {},
   "outputs": [
    {
     "data": {
      "text/html": [
       "\n",
       "<!--border - отображение границ таблицы, <thead> - для заголовка,\n",
       "<tfoot> - нижний колонтитул таблицы,\n",
       "<tbody> - основной контент таблицы -->\n",
       "\n",
       "<table border=\"1\">\n",
       "  <caption >Сотрудники отдела поддержки</caption>\n",
       "  <thead>\n",
       "    <tr>\n",
       "      <th>Имя</th>\n",
       "      <th>Должность</th>\n",
       "    </tr>\n",
       "  </thead>\n",
       "  <tbody>\n",
       "    <tr>\n",
       "      <td>Петя</td>\n",
       "      <td>Менеджер</td>\n",
       "    </tr>\n",
       "    <tr>\n",
       "      <td>Маша</td>\n",
       "      <td>Разработчик</td>\n",
       "    </tr>\n",
       "  </tbody>\n",
       "  <tfoot>\n",
       "    <tr>\n",
       "      <td>Вася</td>\n",
       "      <td>Девопс</td>\n",
       "    </tr>\n",
       "  </tfoot>\n",
       "</table>"
      ],
      "text/plain": [
       "<IPython.core.display.HTML object>"
      ]
     },
     "metadata": {},
     "output_type": "display_data"
    }
   ],
   "source": [
    "%%html\n",
    "\n",
    "<!--border - отображение границ таблицы, <thead> - для заголовка,\n",
    "<tfoot> - нижний колонтитул таблицы,\n",
    "<tbody> - основной контент таблицы -->\n",
    "\n",
    "<table border=\"1\">\n",
    "  <caption >Сотрудники отдела поддержки</caption>\n",
    "  <thead>\n",
    "    <tr>\n",
    "      <th>Имя</th>\n",
    "      <th>Должность</th>\n",
    "    </tr>\n",
    "  </thead>\n",
    "  <tbody>\n",
    "    <tr>\n",
    "      <td>Петя</td>\n",
    "      <td>Менеджер</td>\n",
    "    </tr>\n",
    "    <tr>\n",
    "      <td>Маша</td>\n",
    "      <td>Разработчик</td>\n",
    "    </tr>\n",
    "  </tbody>\n",
    "  <tfoot>\n",
    "    <tr>\n",
    "      <td>Вася</td>\n",
    "      <td>Девопс</td>\n",
    "    </tr>\n",
    "  </tfoot>\n",
    "</table>"
   ]
  },
  {
   "cell_type": "code",
   "execution_count": 12,
   "metadata": {},
   "outputs": [
    {
     "data": {
      "text/html": [
       "\n",
       "\n",
       "<!-- объединение столбцов -->\n",
       "\n",
       "<table border=\"1\">\n",
       "  <tr>\n",
       "    <td>Первая ячейка</td>\n",
       "    <td>Вторая ячейка</td>\n",
       "    <td>Третья ячейка</td>\n",
       "  </tr>\n",
       "  <tr>\n",
       "    <td>Единственная ячейка</td>\n",
       "  </tr>\n",
       "</table>\n",
       "\n",
       "\n",
       "<!-- td colspan = '3' объединяет ячейки с тремя -->\n",
       "\n",
       "<table border=\"1\">\n",
       "  <tr>\n",
       "    <td>Первая ячейка</td>\n",
       "    <td>Вторая ячейка</td>\n",
       "    <td>Третья ячейка</td>\n",
       "  </tr>\n",
       "  <tr>\n",
       "    <td colspan=\"3\">Единственная ячейка</td>\n",
       "  </tr>\n",
       "</table>"
      ],
      "text/plain": [
       "<IPython.core.display.HTML object>"
      ]
     },
     "metadata": {},
     "output_type": "display_data"
    }
   ],
   "source": [
    "%%html\n",
    "\n",
    "\n",
    "<!-- объединение столбцов -->\n",
    "\n",
    "<table border=\"1\">\n",
    "  <tr>\n",
    "    <td>Первая ячейка</td>\n",
    "    <td>Вторая ячейка</td>\n",
    "    <td>Третья ячейка</td>\n",
    "  </tr>\n",
    "  <tr>\n",
    "    <td>Единственная ячейка</td>\n",
    "  </tr>\n",
    "</table>\n",
    "\n",
    "\n",
    "<!-- td colspan = '3' объединяет ячейки с тремя -->\n",
    "\n",
    "<table border=\"1\">\n",
    "  <tr>\n",
    "    <td>Первая ячейка</td>\n",
    "    <td>Вторая ячейка</td>\n",
    "    <td>Третья ячейка</td>\n",
    "  </tr>\n",
    "  <tr>\n",
    "    <td colspan=\"3\">Единственная ячейка</td>\n",
    "  </tr>\n",
    "</table>"
   ]
  },
  {
   "cell_type": "code",
   "execution_count": 13,
   "metadata": {},
   "outputs": [
    {
     "data": {
      "text/html": [
       "\n",
       "<!-- объединение строк -->\n",
       "\n",
       "<table border=\"1\">\n",
       "  <tr>\n",
       "    <td rowspan=\"2\">Левая ячейка</td>\n",
       "    <td>Верхняя ячейка</td>\n",
       "  </tr>\n",
       "  <tr>\n",
       "    <td>Нижняя ячейка</td>\n",
       "  </tr>\n",
       "</table>"
      ],
      "text/plain": [
       "<IPython.core.display.HTML object>"
      ]
     },
     "metadata": {},
     "output_type": "display_data"
    }
   ],
   "source": [
    "%%html\n",
    "\n",
    "<!-- объединение строк -->\n",
    "\n",
    "<table border=\"1\">\n",
    "  <tr>\n",
    "    <td rowspan=\"2\">Левая ячейка</td>\n",
    "    <td>Верхняя ячейка</td>\n",
    "  </tr>\n",
    "  <tr>\n",
    "    <td>Нижняя ячейка</td>\n",
    "  </tr>\n",
    "</table>"
   ]
  },
  {
   "cell_type": "markdown",
   "metadata": {},
   "source": [
    "## Формы"
   ]
  },
  {
   "cell_type": "code",
   "execution_count": 3,
   "metadata": {},
   "outputs": [
    {
     "data": {
      "text/html": [
       "\n",
       "<title>Один из возможных вариантов HTML формы</title>\n",
       "</head>\n",
       "<body>\n",
       "<form name=\"f1\" method=\"get\" action=\"enter_data.php\">\n",
       "<input name=\"link\" type=\"hidden\" value=\"index.php\" />\n",
       "Логин: <br />\n",
       "<input name=\"login\" type=\"text\" size=\"25\" maxlength=\"30\" value=\"Вася\" /> <br />\n",
       "Пароль: <br />\n",
       "<input name=\"pd\" type=\"password\" size=\"25\" maxlength=\"30\" value=\"\" /> <br />\n",
       "<input name=\"remember\" type=\"checkbox\" value=\"yes\" /> Запомнить <br />\n",
       "<input type=\"submit\" name=\"enter\" value=\"Вход\" />\n",
       "</form>\n",
       "</body>\n",
       "</html>"
      ],
      "text/plain": [
       "<IPython.core.display.HTML object>"
      ]
     },
     "metadata": {},
     "output_type": "display_data"
    }
   ],
   "source": [
    "%%html\n",
    "\n",
    "<title>Один из возможных вариантов HTML формы</title>\n",
    "</head>\n",
    "<body>\n",
    "<form name=\"f1\" method=\"get\" action=\"enter_data.php\">\n",
    "<input name=\"link\" type=\"hidden\" value=\"index.php\" />\n",
    "Логин: <br />\n",
    "<input name=\"login\" type=\"text\" size=\"25\" maxlength=\"30\" value=\"Вася\" /> <br />\n",
    "Пароль: <br />\n",
    "<input name=\"pd\" type=\"password\" size=\"25\" maxlength=\"30\" value=\"\" /> <br />\n",
    "<input name=\"remember\" type=\"checkbox\" value=\"yes\" /> Запомнить <br />\n",
    "<input type=\"submit\" name=\"enter\" value=\"Вход\" />\n",
    "</form>\n",
    "</body>\n",
    "</html>"
   ]
  },
  {
   "cell_type": "code",
   "execution_count": 4,
   "metadata": {},
   "outputs": [
    {
     "data": {
      "text/html": [
       "<!--текстовое поле -->\n",
       "<input type=\"text\">"
      ],
      "text/plain": [
       "<IPython.core.display.HTML object>"
      ]
     },
     "metadata": {},
     "output_type": "display_data"
    }
   ],
   "source": [
    "%%html\n",
    "<!--текстовое поле -->\n",
    "<input type=\"text\">"
   ]
  },
  {
   "cell_type": "code",
   "execution_count": 5,
   "metadata": {},
   "outputs": [
    {
     "data": {
      "text/html": [
       "<!-- ввод пароля -->\n",
       "<input type=\"password\">"
      ],
      "text/plain": [
       "<IPython.core.display.HTML object>"
      ]
     },
     "metadata": {},
     "output_type": "display_data"
    }
   ],
   "source": [
    "%%html\n",
    "<!-- ввод пароля -->\n",
    "<input type=\"password\">"
   ]
  },
  {
   "cell_type": "code",
   "execution_count": 6,
   "metadata": {},
   "outputs": [
    {
     "data": {
      "text/html": [
       "<!-- чекбокс -->\n",
       "<input type=\"checkbox\">"
      ],
      "text/plain": [
       "<IPython.core.display.HTML object>"
      ]
     },
     "metadata": {},
     "output_type": "display_data"
    }
   ],
   "source": [
    "%%html\n",
    "<!-- чекбокс -->\n",
    "<input type=\"checkbox\">"
   ]
  },
  {
   "cell_type": "code",
   "execution_count": 7,
   "metadata": {},
   "outputs": [
    {
     "data": {
      "text/html": [
       "<!-- радиокнопки -->\n",
       "<input type=\"radio\" name=\"gender\" value=\"male\" checked> Мужской<br>\n",
       "<input type=\"radio\" name=\"gender\" value=\"female\"> Женский<br>\n",
       "<input type=\"radio\" name=\"gender\" value=\"other\"> Другой"
      ],
      "text/plain": [
       "<IPython.core.display.HTML object>"
      ]
     },
     "metadata": {},
     "output_type": "display_data"
    }
   ],
   "source": [
    "%%html\n",
    "<!-- радиокнопки -->\n",
    "<input type=\"radio\" name=\"gender\" value=\"male\" checked> Мужской<br>\n",
    "<input type=\"radio\" name=\"gender\" value=\"female\"> Женский<br>\n",
    "<input type=\"radio\" name=\"gender\" value=\"other\"> Другой"
   ]
  },
  {
   "cell_type": "code",
   "execution_count": 8,
   "metadata": {},
   "outputs": [
    {
     "data": {
      "text/html": [
       "<!-- загрузка файлов -->\n",
       "<input type=\"file\">"
      ],
      "text/plain": [
       "<IPython.core.display.HTML object>"
      ]
     },
     "metadata": {},
     "output_type": "display_data"
    }
   ],
   "source": [
    "%%HTML\n",
    "<!-- загрузка файлов -->\n",
    "<input type=\"file\">"
   ]
  },
  {
   "cell_type": "code",
   "execution_count": 9,
   "metadata": {},
   "outputs": [
    {
     "data": {
      "text/html": [
       "<!-- кнопка сброса-->\n",
       "<input type=\"reset\">"
      ],
      "text/plain": [
       "<IPython.core.display.HTML object>"
      ]
     },
     "metadata": {},
     "output_type": "display_data"
    }
   ],
   "source": [
    "%%html\n",
    "<!-- кнопка сброса-->\n",
    "<input type=\"reset\">"
   ]
  },
  {
   "cell_type": "code",
   "execution_count": 10,
   "metadata": {},
   "outputs": [
    {
     "data": {
      "text/html": [
       "<!-- -->\n",
       "<input type=\"submit\">"
      ],
      "text/plain": [
       "<IPython.core.display.HTML object>"
      ]
     },
     "metadata": {},
     "output_type": "display_data"
    }
   ],
   "source": [
    "%%html\n",
    "<!--подтверждение -->\n",
    "<input type=\"submit\">"
   ]
  },
  {
   "cell_type": "code",
   "execution_count": 11,
   "metadata": {},
   "outputs": [
    {
     "data": {
      "text/html": [
       "<!-- просто кнопка-->\n",
       "<button>Нажми на меня</button>"
      ],
      "text/plain": [
       "<IPython.core.display.HTML object>"
      ]
     },
     "metadata": {},
     "output_type": "display_data"
    }
   ],
   "source": [
    "%%html\n",
    "<!-- просто кнопка-->\n",
    "<button>Нажми на меня</button>"
   ]
  },
  {
   "cell_type": "markdown",
   "metadata": {},
   "source": [
    "# CSS"
   ]
  },
  {
   "cell_type": "code",
   "execution_count": 18,
   "metadata": {},
   "outputs": [
    {
     "data": {
      "text/html": [
       "<!DOCTYPE html>\n",
       "<html>\n",
       "<head>\n",
       "  <meta charset=\"utf-8\">\n",
       "  <title>Page Title</title>\n",
       "  <link rel=\"stylesheet\" href=\"style.css\">\n",
       "</head>\n",
       "<body>\n",
       "  <header class=\"header\">\n",
       "    <h1 class=\"header__title\">Привет<br>мир!</h1>\n",
       "  </header>\n",
       "  <article class=\"article article_whitebg article_first\">\n",
       "    <h2 class=\"black\">Это моя первая<br>страница!</h2>\n",
       "    <p class=\"black\">Я научился писать <strong>HTML</strong </p>\n",
       "  </article>\n",
       "  <article class=\"article article_bluebg article_second\">\n",
       "    <h2 class=\"white\">Свяжись со мной!</h2>\n",
       "    <p class=\"white\"></p>\n",
       "    <form class=\"form\">\n",
       "      <input type=\"email\" class=\"form_input\" placeholder=\"E-mail\">\n",
       "      <input type=\"text\" class=\"form_input\" placeholder=\"Имя\">\n",
       "      <textarea class=\"form_textarea\" placeholder=\"Ваше сообщение\"></textarea>\n",
       "      <button class=\"form_button\" type=\"button\">Отправить</button>\n",
       "    </form>\n",
       "  </article>\n",
       "</body>\n",
       "</html>\n",
       "\n",
       "\n",
       "<style>\n",
       "\n",
       "<svg xmlns='http://www.w3.org/2000/svg' width='540' height='450' viewBox='0 0 1080 900'><rect fill='#0022ff' width='1080' height='900'/><g fill-opacity='.1'><polygon fill='#444' points='90 150 0 300 180 300'/><polygon points='90 150 180 0 0 0'/><polygon fill='#AAA' points='270 150 360 0 180 0'/><polygon fill='#DDD' points='450 150 360 300 540 300'/><polygon fill='#999' points='450 150 540 0 360 0'/><polygon points='630 150 540 300 720 300'/><polygon fill='#DDD' points='630 150 720 0 540 0'/><polygon fill='#444' points='810 150 720 300 900 300'/><polygon fill='#FFF' points='810 150 900 0 720 0'/><polygon fill='#DDD' points='990 150 900 300 1080 300'/><polygon fill='#444' points='990 150 1080 0 900 0'/><polygon fill='#DDD' points='90 450 0 600 180 600'/><polygon points='90 450 180 300 0 300'/><polygon fill='#666' points='270 450 180 600 360 600'/><polygon fill='#AAA' points='270 450 360 300 180 300'/><polygon fill='#DDD' points='450 450 360 600 540 600'/><polygon fill='#999' points='450 450 540 300 360 300'/><polygon fill='#999' points='630 450 540 600 720 600'/><polygon fill='#FFF' points='630 450 720 300 540 300'/><polygon points='810 450 720 600 900 600'/><polygon fill='#DDD' points='810 450 900 300 720 300'/><polygon fill='#AAA' points='990 450 900 600 1080 600'/><polygon fill='#444' points='990 450 1080 300 900 300'/><polygon fill='#222' points='90 750 0 900 180 900'/><polygon points='270 750 180 900 360 900'/><polygon fill='#DDD' points='270 750 360 600 180 600'/><polygon points='450 750 540 600 360 600'/><polygon points='630 750 540 900 720 900'/><polygon fill='#444' points='630 750 720 600 540 600'/><polygon fill='#AAA' points='810 750 720 900 900 900'/><polygon fill='#666' points='810 750 900 600 720 600'/><polygon fill='#999' points='990 750 900 900 1080 900'/><polygon fill='#999' points='180 0 90 150 270 150'/><polygon fill='#444' points='360 0 270 150 450 150'/><polygon fill='#FFF' points='540 0 450 150 630 150'/><polygon points='900 0 810 150 990 150'/><polygon fill='#222' points='0 300 -90 450 90 450'/><polygon fill='#FFF' points='0 300 90 150 -90 150'/><polygon fill='#FFF' points='180 300 90 450 270 450'/><polygon fill='#666' points='180 300 270 150 90 150'/><polygon fill='#222' points='360 300 270 450 450 450'/><polygon fill='#FFF' points='360 300 450 150 270 150'/><polygon fill='#444' points='540 300 450 450 630 450'/><polygon fill='#222' points='540 300 630 150 450 150'/><polygon fill='#AAA' points='720 300 630 450 810 450'/><polygon fill='#666' points='720 300 810 150 630 150'/><polygon fill='#FFF' points='900 300 810 450 990 450'/><polygon fill='#999' points='900 300 990 150 810 150'/><polygon points='0 600 -90 750 90 750'/><polygon fill='#666' points='0 600 90 450 -90 450'/><polygon fill='#AAA' points='180 600 90 750 270 750'/><polygon fill='#444' points='180 600 270 450 90 450'/><polygon fill='#444' points='360 600 270 750 450 750'/><polygon fill='#999' points='360 600 450 450 270 450'/><polygon fill='#666' points='540 600 630 450 450 450'/><polygon fill='#222' points='720 600 630 750 810 750'/><polygon fill='#FFF' points='900 600 810 750 990 750'/><polygon fill='#222' points='900 600 990 450 810 450'/><polygon fill='#DDD' points='0 900 90 750 -90 750'/><polygon fill='#444' points='180 900 270 750 90 750'/><polygon fill='#FFF' points='360 900 450 750 270 750'/><polygon fill='#AAA' points='540 900 630 750 450 750'/><polygon fill='#FFF' points='720 900 810 750 630 750'/><polygon fill='#222' points='900 900 990 750 810 750'/><polygon fill='#222' points='1080 300 990 450 1170 450'/><polygon fill='#FFF' points='1080 300 1170 150 990 150'/><polygon points='1080 600 990 750 1170 750'/><polygon fill='#666' points='1080 600 1170 450 990 450'/><polygon fill='#DDD' points='1080 900 1170 750 990 750'/></g></svg>\n",
       "\n",
       "\n",
       "\n",
       "\n",
       "\n",
       "\n",
       "\n",
       "@import url(\"https://fonts.googleapis.com/css?family=Montserrat:700,900&subset=cyrillic\");\n",
       "@import url('https://fonts.googleapis.com/css?family=Open+Sans:300,300i,400,400i,700,700i&subset=cyrillic');\n",
       "\n",
       "@keyframes header_anim {\n",
       "  from {\n",
       "    transform: translateX(-120%);\n",
       "  }\n",
       "  to {\n",
       "    transform: translateX(0);\n",
       "  }\n",
       "}\n",
       "\n",
       "body {\n",
       "  margin: 0;\n",
       "  padding: 0;\n",
       "}\n",
       "\n",
       "h1 {\n",
       "  position: relative;\n",
       "  font-family: \"Montserrat\", sans-serif;\n",
       "  font-size: 8em;\n",
       "  font-weight: 700;\n",
       "}\n",
       "\n",
       "h2 {\n",
       "  position: relative;\n",
       "  font-family: \"Montserrat\", sans-serif;\n",
       "  font-size: 5em;\n",
       "  font-weight: 700;\n",
       "}\n",
       "\n",
       "p {\n",
       "  position: relative;\n",
       "  font-family: 'Open Sans', sans-serif;\n",
       "  font-size: 2em;\n",
       "  font-weight: 300;\n",
       "}\n",
       "\n",
       ".header {\n",
       "  display: flex;\n",
       "  min-height: 100vh;\n",
       "  padding: 8px 50px;\n",
       "  background-color: #02f;\n",
       "  background-image: url(\"bg.svg\");\n",
       "  background-repeat: no-repeat;\n",
       "  background-position: center center;\n",
       "  background-size: cover;\n",
       "}\n",
       "\n",
       ".header__title {\n",
       "  transform: translateX(0);\n",
       "  animation-name: header_anim;\n",
       "  animation-duration: 1s;\n",
       "  animation-timing-function: cubic-bezier(0.68, -0.55, 0.265, 1.55);\n",
       "  text-transform: uppercase;\n",
       "  color: #fff;\n",
       "  align-self: center;\n",
       "}\n",
       "\n",
       ".article {\n",
       "  position: relative;\n",
       "  min-height: 100vh;\n",
       "  padding: 8px 50px;\n",
       "}\n",
       "\n",
       ".article_whitebg::before,\n",
       ".article_bluebg::before {\n",
       "  position: absolute;\n",
       "  top: 0;\n",
       "  right: 0;\n",
       "  bottom: 0;\n",
       "  left: 0;\n",
       "  content:'';\n",
       "}\n",
       "\n",
       ".article_whitebg::before {\n",
       "  background: rgba(255, 255, 255, 0.5);\n",
       "}\n",
       "\n",
       ".article_bluebg::before {\n",
       "  background: rgba(0, 34, 255, 0.5);\n",
       "}\n",
       "\n",
       ".article_first,\n",
       ".article_second {\n",
       "  background-repeat: no-repeat;\n",
       "  background-position: center center;\n",
       "  background-size: cover;\n",
       "}\n",
       "\n",
       ".article_first {\n",
       "  background-image: url(\"first_bg.jpg\");\n",
       "}\n",
       "\n",
       ".article_second {\n",
       "  background-image: url(\"second_bg.jpg\");\n",
       "}\n",
       "\n",
       ".form {\n",
       "  position: relative;\n",
       "  width: 500px;\n",
       "  margin: 0 auto;\n",
       "  text-align: center;\n",
       "}\n",
       "\n",
       ".form_input,\n",
       ".form_textarea {\n",
       "  display: block;\n",
       "  box-sizing: border-box;\n",
       "  width: 100%;\n",
       "  margin-bottom: 16px;\n",
       "  padding: 8px 16px;\n",
       "  transition: transform 0.3s ease-out;\n",
       "  color: #02f;\n",
       "  border: none;\n",
       "  border-radius: 8px;\n",
       "  outline: none;\n",
       "  background-color: #fff;\n",
       "  font-family: 'Open Sans', sans-serif;\n",
       "  font-size: 1.5em;\n",
       "  font-weight: 300;\n",
       "}\n",
       "\n",
       ".form_input::-webkit-input-placeholder,\n",
       ".form_textarea::-webkit-input-placeholder {\n",
       "  opacity: 0.6;\n",
       "  color: #02f;\n",
       "}\n",
       "\n",
       ".form_input:focus,\n",
       ".form_textarea:focus {\n",
       "  transition: transform 0.3s ease-out;\n",
       "  transform: scale(1.02, 1.02);\n",
       "}\n",
       "\n",
       ".form_textarea {\n",
       "  resize: none;\n",
       "}\n",
       "\n",
       ".form_button {\n",
       "  display: inline-block;\n",
       "  padding: 12px 32px;\n",
       "  transition: all 0.3s ease-out;\n",
       "  text-transform: uppercase;\n",
       "  color: #fff;\n",
       "  border: none;\n",
       "  border-radius: 8px;\n",
       "  outline: none;\n",
       "  background-color: #02f;\n",
       "  background-clip: border-box;\n",
       "  font-family: 'Montserrat', sans-serif;\n",
       "  font-size: 1.5em;\n",
       "  font-weight: 700;\n",
       "}\n",
       "\n",
       ".form_button:hover {\n",
       "  transition: all 0.3s ease-out;\n",
       "  transform: scale(1.02, 1.02);\n",
       "  box-shadow: rgba(255, 255, 255, 0.3) 0 0 16px 2px;\n",
       "}\n",
       "\n",
       ".black {\n",
       "  color: #000;\n",
       "}\n",
       "\n",
       ".white {\n",
       "  color: #fff;\n",
       "}\n",
       "\n",
       "</style>"
      ],
      "text/plain": [
       "<IPython.core.display.HTML object>"
      ]
     },
     "metadata": {},
     "output_type": "display_data"
    }
   ],
   "source": [
    "%%html\n",
    "<!DOCTYPE html>\n",
    "<html>\n",
    "<head>\n",
    "  <meta charset=\"utf-8\">\n",
    "  <title>Page Title</title>\n",
    "  <link rel=\"stylesheet\" href=\"style.css\">\n",
    "</head>\n",
    "<body>\n",
    "  <header class=\"header\">\n",
    "    <h1 class=\"header__title\">Привет<br>мир!</h1>\n",
    "  </header>\n",
    "  <article class=\"article article_whitebg article_first\">\n",
    "    <h2 class=\"black\">Это моя первая<br>страница!</h2>\n",
    "    <p class=\"black\">Я научился писать <strong>HTML</strong </p>\n",
    "  </article>\n",
    "  <article class=\"article article_bluebg article_second\">\n",
    "    <h2 class=\"white\">Свяжись со мной!</h2>\n",
    "    <p class=\"white\"></p>\n",
    "    <form class=\"form\">\n",
    "      <input type=\"email\" class=\"form_input\" placeholder=\"E-mail\">\n",
    "      <input type=\"text\" class=\"form_input\" placeholder=\"Имя\">\n",
    "      <textarea class=\"form_textarea\" placeholder=\"Ваше сообщение\"></textarea>\n",
    "      <button class=\"form_button\" type=\"button\">Отправить</button>\n",
    "    </form>\n",
    "  </article>\n",
    "</body>\n",
    "</html>\n",
    "\n",
    "\n",
    "<style>\n",
    "\n",
    "\n",
    "@import url(\"https://fonts.googleapis.com/css?family=Montserrat:700,900&subset=cyrillic\");\n",
    "@import url('https://fonts.googleapis.com/css?family=Open+Sans:300,300i,400,400i,700,700i&subset=cyrillic');\n",
    "\n",
    "@keyframes header_anim {\n",
    "  from {\n",
    "    transform: translateX(-120%);\n",
    "  }\n",
    "  to {\n",
    "    transform: translateX(0);\n",
    "  }\n",
    "}\n",
    "\n",
    "body {\n",
    "  margin: 0;\n",
    "  padding: 0;\n",
    "}\n",
    "\n",
    "h1 {\n",
    "  position: relative;\n",
    "  font-family: \"Montserrat\", sans-serif;\n",
    "  font-size: 8em;\n",
    "  font-weight: 700;\n",
    "}\n",
    "\n",
    "h2 {\n",
    "  position: relative;\n",
    "  font-family: \"Montserrat\", sans-serif;\n",
    "  font-size: 5em;\n",
    "  font-weight: 700;\n",
    "}\n",
    "\n",
    "p {\n",
    "  position: relative;\n",
    "  font-family: 'Open Sans', sans-serif;\n",
    "  font-size: 2em;\n",
    "  font-weight: 300;\n",
    "}\n",
    "\n",
    ".header {\n",
    "  display: flex;\n",
    "  min-height: 100vh;\n",
    "  padding: 8px 50px;\n",
    "  background-color: #02f;\n",
    "  background-image: url(\"bg.svg\");\n",
    "  background-repeat: no-repeat;\n",
    "  background-position: center center;\n",
    "  background-size: cover;\n",
    "}\n",
    "\n",
    ".header__title {\n",
    "  transform: translateX(0);\n",
    "  animation-name: header_anim;\n",
    "  animation-duration: 1s;\n",
    "  animation-timing-function: cubic-bezier(0.68, -0.55, 0.265, 1.55);\n",
    "  text-transform: uppercase;\n",
    "  color: #fff;\n",
    "  align-self: center;\n",
    "}\n",
    "\n",
    ".article {\n",
    "  position: relative;\n",
    "  min-height: 100vh;\n",
    "  padding: 8px 50px;\n",
    "}\n",
    "\n",
    ".article_whitebg::before,\n",
    ".article_bluebg::before {\n",
    "  position: absolute;\n",
    "  top: 0;\n",
    "  right: 0;\n",
    "  bottom: 0;\n",
    "  left: 0;\n",
    "  content:'';\n",
    "}\n",
    "\n",
    ".article_whitebg::before {\n",
    "  background: rgba(255, 255, 255, 0.5);\n",
    "}\n",
    "\n",
    ".article_bluebg::before {\n",
    "  background: rgba(0, 34, 255, 0.5);\n",
    "}\n",
    "\n",
    ".article_first,\n",
    ".article_second {\n",
    "  background-repeat: no-repeat;\n",
    "  background-position: center center;\n",
    "  background-size: cover;\n",
    "}\n",
    "\n",
    ".article_first {\n",
    "  background-image: url(\"first_bg.jpg\");\n",
    "}\n",
    "\n",
    ".article_second {\n",
    "  background-image: url(\"second_bg.jpg\");\n",
    "}\n",
    "\n",
    ".form {\n",
    "  position: relative;\n",
    "  width: 500px;\n",
    "  margin: 0 auto;\n",
    "  text-align: center;\n",
    "}\n",
    "\n",
    ".form_input,\n",
    ".form_textarea {\n",
    "  display: block;\n",
    "  box-sizing: border-box;\n",
    "  width: 100%;\n",
    "  margin-bottom: 16px;\n",
    "  padding: 8px 16px;\n",
    "  transition: transform 0.3s ease-out;\n",
    "  color: #02f;\n",
    "  border: none;\n",
    "  border-radius: 8px;\n",
    "  outline: none;\n",
    "  background-color: #fff;\n",
    "  font-family: 'Open Sans', sans-serif;\n",
    "  font-size: 1.5em;\n",
    "  font-weight: 300;\n",
    "}\n",
    "\n",
    ".form_input::-webkit-input-placeholder,\n",
    ".form_textarea::-webkit-input-placeholder {\n",
    "  opacity: 0.6;\n",
    "  color: #02f;\n",
    "}\n",
    "\n",
    ".form_input:focus,\n",
    ".form_textarea:focus {\n",
    "  transition: transform 0.3s ease-out;\n",
    "  transform: scale(1.02, 1.02);\n",
    "}\n",
    "\n",
    ".form_textarea {\n",
    "  resize: none;\n",
    "}\n",
    "\n",
    ".form_button {\n",
    "  display: inline-block;\n",
    "  padding: 12px 32px;\n",
    "  transition: all 0.3s ease-out;\n",
    "  text-transform: uppercase;\n",
    "  color: #fff;\n",
    "  border: none;\n",
    "  border-radius: 8px;\n",
    "  outline: none;\n",
    "  background-color: #02f;\n",
    "  background-clip: border-box;\n",
    "  font-family: 'Montserrat', sans-serif;\n",
    "  font-size: 1.5em;\n",
    "  font-weight: 700;\n",
    "}\n",
    "\n",
    ".form_button:hover {\n",
    "  transition: all 0.3s ease-out;\n",
    "  transform: scale(1.02, 1.02);\n",
    "  box-shadow: rgba(255, 255, 255, 0.3) 0 0 16px 2px;\n",
    "}\n",
    "\n",
    ".black {\n",
    "  color: #000;\n",
    "}\n",
    "\n",
    ".white {\n",
    "  color: #fff;\n",
    "}\n",
    "\n",
    "</style>"
   ]
  },
  {
   "cell_type": "code",
   "execution_count": 21,
   "metadata": {},
   "outputs": [
    {
     "data": {
      "text/html": [
       "<!--добавление стилей -->\n",
       "<h1 style = 'color: Red;border: 1px solid #000; margin-top: 16px'> We carry on! </h1>"
      ],
      "text/plain": [
       "<IPython.core.display.HTML object>"
      ]
     },
     "metadata": {},
     "output_type": "display_data"
    }
   ],
   "source": [
    "%%html\n",
    "<!--добавление стилей -->\n",
    "<h1 style = 'color: Red;border: 1px solid #000; margin-top: 16px'> We carry on! </h1>"
   ]
  },
  {
   "cell_type": "code",
   "execution_count": 35,
   "metadata": {},
   "outputs": [
    {
     "data": {
      "text/html": [
       "\n",
       "<!--Синтаксис -->\n",
       "\n",
       "<p>\n",
       "when i was<br>\n",
       "i young boy<br>\n",
       "my feather<br>\n",
       "took me to the city<br>\n",
       "to watch a marching band\n",
       "</p>\n",
       "\n",
       "<style>\n",
       "p \n",
       "{color:Green;\n",
       "  position: relative;\n",
       "  font-family: 'Open Sans', sans-serif;\n",
       "  font-size: 2em;\n",
       "  font-weight: 300}\n",
       "\n",
       "</style>"
      ],
      "text/plain": [
       "<IPython.core.display.HTML object>"
      ]
     },
     "metadata": {},
     "output_type": "display_data"
    }
   ],
   "source": [
    "%%html\n",
    "\n",
    "<!--Синтаксис -->\n",
    "\n",
    "<p>\n",
    "when i was<br>\n",
    "i young boy<br>\n",
    "my feather<br>\n",
    "took me to the city<br>\n",
    "to watch a marching band\n",
    "</p>\n",
    "\n",
    "<style>\n",
    "p \n",
    "{color:Green;\n",
    "  position: relative;\n",
    "  font-family: 'Open Sans', sans-serif;\n",
    "  font-size: 2em;\n",
    "  font-weight: 300}\n",
    "\n",
    "</style>\n"
   ]
  },
  {
   "cell_type": "code",
   "execution_count": 51,
   "metadata": {},
   "outputs": [
    {
     "data": {
      "text/html": [
       "<p1>\n",
       "when i was<br>\n",
       "i young boy<br>\n",
       "my feather<br>\n",
       "took me to the city<br>\n",
       "to watch a marching band\n",
       "</p1>\n",
       "<style>\n",
       "p1\n",
       "{color:#fff;\n",
       "background-color:Red\n",
       " }\n",
       "\n",
       "</style>"
      ],
      "text/plain": [
       "<IPython.core.display.HTML object>"
      ]
     },
     "metadata": {},
     "output_type": "display_data"
    }
   ],
   "source": [
    "%%html\n",
    "\n",
    "<p1>\n",
    "when i was<br>\n",
    "i young boy<br>\n",
    "my feather<br>\n",
    "took me to the city<br>\n",
    "to watch a marching band\n",
    "</p1>\n",
    "\n",
    "<style>\n",
    "\n",
    "p1\n",
    "{color:#fff;\n",
    "background-color:Red\n",
    " }\n",
    "\n",
    "</style>"
   ]
  },
  {
   "cell_type": "markdown",
   "metadata": {},
   "source": [
    "## Типы селекторов"
   ]
  },
  {
   "cell_type": "code",
   "execution_count": 54,
   "metadata": {},
   "outputs": [
    {
     "data": {
      "text/html": [
       "<!--по тег-->\n",
       "<h3> first </h3>\n",
       "<h3> second </h3>\n",
       "\n",
       "\n",
       "<style>\n",
       "h3 {\n",
       "   color:Red\n",
       "}\n",
       "</style>"
      ],
      "text/plain": [
       "<IPython.core.display.HTML object>"
      ]
     },
     "metadata": {},
     "output_type": "display_data"
    }
   ],
   "source": [
    "%%html\n",
    "<!--по тегу-->\n",
    "<h3> first </h3>\n",
    "<h3> second </h3>\n",
    "\n",
    "\n",
    "<style>\n",
    "h3 {\n",
    "   color:Red\n",
    "}\n",
    "</style>"
   ]
  },
  {
   "cell_type": "code",
   "execution_count": 58,
   "metadata": {},
   "outputs": [
    {
     "data": {
      "text/html": [
       "<!-- по классу -->\n",
       "\n",
       "<h2 class = \"card\"> first </h2> \n",
       "<div class=\"card\">\n",
       " Карточка\n",
       "</div>\n",
       "\n",
       "<style>\n",
       ".card {\n",
       "   /* стили для всех элементов с class=\"card\" */\n",
       "   background: #399;\n",
       "}\n",
       "<style>"
      ],
      "text/plain": [
       "<IPython.core.display.HTML object>"
      ]
     },
     "metadata": {},
     "output_type": "display_data"
    }
   ],
   "source": [
    "%%html\n",
    "<!-- по классу -->\n",
    "\n",
    "<h2 class = \"card\"> first </h2> \n",
    "<div class=\"card\">\n",
    " Карточка\n",
    "</div>\n",
    "\n",
    "<style>\n",
    ".card {\n",
    "   /* стили для всех элементов с class=\"card\" */\n",
    "   background: #399;\n",
    "}\n",
    "<style>"
   ]
  },
  {
   "cell_type": "code",
   "execution_count": 60,
   "metadata": {},
   "outputs": [
    {
     "data": {
      "text/html": [
       "<!-- по ID -->\n",
       "\n",
       "\n",
       "<button id=\"button-go-to-top\">\n",
       " Наверх\n",
       "</button>\n",
       "\n",
       "<style>\n",
       "#button-go-to-top {\n",
       "   /* стили для элемента с id=\"button-go-to-top\" */\n",
       "   text-decoration: underline; /* подчёркивание текста */\n",
       "}\n",
       "</style>"
      ],
      "text/plain": [
       "<IPython.core.display.HTML object>"
      ]
     },
     "metadata": {},
     "output_type": "display_data"
    }
   ],
   "source": [
    "%%html\n",
    "<!-- по ID -->\n",
    "\n",
    "\n",
    "<button id=\"button-go-to-top\">\n",
    " Наверх\n",
    "</button>\n",
    "\n",
    "<style>\n",
    "#button-go-to-top {\n",
    "   /* стили для элемента с id=\"button-go-to-top\" */\n",
    "   text-decoration: underline; /* подчёркивание текста */\n",
    "}\n",
    "</style>"
   ]
  },
  {
   "cell_type": "code",
   "execution_count": 61,
   "metadata": {},
   "outputs": [
    {
     "data": {
      "text/html": [
       "<!-- -->\n",
       "\n",
       "\n",
       "<button data-my-custom-attribute=\"my-custom-value\">\n",
       " Нажми на меня\n",
       "</button>\n",
       "\n",
       "<style>\n",
       "[data-my-custom-attribute=\"my-custom-value\"] {\n",
       "   color: red;\n",
       "}\n",
       "</style>"
      ],
      "text/plain": [
       "<IPython.core.display.HTML object>"
      ]
     },
     "metadata": {},
     "output_type": "display_data"
    }
   ],
   "source": [
    "%%html\n",
    "<!--по атрибуту -->\n",
    "\n",
    "\n",
    "<button data-my-custom-attribute=\"my-custom-value\">\n",
    " Нажми на меня\n",
    "</button>\n",
    "\n",
    "<style>\n",
    "[data-my-custom-attribute=\"my-custom-value\"] {\n",
    "   color: red;\n",
    "}\n",
    "</style>\n"
   ]
  },
  {
   "cell_type": "code",
   "execution_count": 64,
   "metadata": {},
   "outputs": [
    {
     "data": {
      "text/html": [
       "<!-- любой -->\n",
       "\n",
       "<h6> title</h6>\n",
       "<p3>text </p3>\n",
       "\n",
       "<style>\n",
       "* {\n",
       "  margin: 0;\n",
       "}\n",
       "</style>"
      ],
      "text/plain": [
       "<IPython.core.display.HTML object>"
      ]
     },
     "metadata": {},
     "output_type": "display_data"
    }
   ],
   "source": [
    "%%html\n",
    "<!-- любой -->\n",
    "\n",
    "<h6> title</h6>\n",
    "<p3>text </p3>\n",
    "\n",
    "<style>\n",
    "* {\n",
    "  margin: 0;\n",
    "}\n",
    "</style>"
   ]
  },
  {
   "cell_type": "code",
   "execution_count": 65,
   "metadata": {},
   "outputs": [
    {
     "data": {
      "text/html": [
       "<!-- группировка -->\n",
       "\n",
       "<h6> title</h6>\n",
       "<p3>text </p3>\n",
       "\n",
       "<style>\n",
       "h6,p3 {\n",
       "  color:Blue;\n",
       "}\n",
       "</style>"
      ],
      "text/plain": [
       "<IPython.core.display.HTML object>"
      ]
     },
     "metadata": {},
     "output_type": "display_data"
    }
   ],
   "source": [
    "%%html\n",
    "<!-- группировка -->\n",
    "\n",
    "<h6> title</h6>\n",
    "<p3>text </p3>\n",
    "\n",
    "<style>\n",
    "h6,p3 {\n",
    "  color:Blue;\n",
    "}\n",
    "</style>"
   ]
  },
  {
   "cell_type": "code",
   "execution_count": 66,
   "metadata": {},
   "outputs": [
    {
     "data": {
      "text/html": [
       "<!-- группировка -->\n",
       "\n",
       "<h6 class = 'example'> title</h6>\n",
       "<p3 class = 'example'>text </p3>\n",
       "\n",
       "<style>\n",
       ".example {\n",
       "  color:Red;\n",
       "}\n",
       "</style>"
      ],
      "text/plain": [
       "<IPython.core.display.HTML object>"
      ]
     },
     "metadata": {},
     "output_type": "display_data"
    }
   ],
   "source": [
    "%%html\n",
    "<!-- группировка -->\n",
    "\n",
    "<h6 class = 'example'> title</h6>\n",
    "<p3 class = 'example'>text </p3>\n",
    "\n",
    "<style>\n",
    ".example {\n",
    "  color:Red;\n",
    "}\n",
    "</style>"
   ]
  },
  {
   "cell_type": "code",
   "execution_count": 69,
   "metadata": {},
   "outputs": [
    {
     "data": {
      "text/html": [
       "<!--вложенность -->\n",
       "\n",
       "<div class=\"page\">\n",
       " <p>Как писал Пелевин:</p>\n",
       " <div class=\"quote\">\n",
       "  <p>\n",
       "   Человек привык видеть дьявола везде, кроме зеркала и телевизора.\n",
       "  </p>\n",
       " </div>\n",
       "</div>\n",
       "\n",
       "<style>\n",
       ".page p {\n",
       " text-decoration: underline;\n",
       "}\n",
       "</style>"
      ],
      "text/plain": [
       "<IPython.core.display.HTML object>"
      ]
     },
     "metadata": {},
     "output_type": "display_data"
    }
   ],
   "source": [
    "%%html\n",
    "<!--вложенность -->\n",
    "\n",
    "<div class=\"page\">\n",
    " <p>Как писал Пелевин:</p>\n",
    " <div class=\"quote\">\n",
    "  <p>\n",
    "   Человек привык видеть дьявола везде, кроме зеркала и телевизора.\n",
    "  </p>\n",
    " </div>\n",
    "</div>\n",
    "\n",
    "<style>\n",
    ".page p {\n",
    " text-decoration: underline;\n",
    "}\n",
    "</style>\n"
   ]
  },
  {
   "cell_type": "code",
   "execution_count": 6,
   "metadata": {},
   "outputs": [
    {
     "data": {
      "text/html": [
       "<style>\n",
       "#header {font-size:20}\n",
       "</style>"
      ],
      "text/plain": [
       "<IPython.core.display.HTML object>"
      ]
     },
     "metadata": {},
     "output_type": "display_data"
    }
   ],
   "source": [
    "%%html\n",
    "<style>\n",
    "#header {font-size:20}\n",
    "</style>"
   ]
  }
 ],
 "metadata": {
  "celltoolbar": "Raw Cell Format",
  "kernelspec": {
   "display_name": "Python 3",
   "language": "python",
   "name": "python3"
  },
  "language_info": {
   "codemirror_mode": {
    "name": "ipython",
    "version": 3
   },
   "file_extension": ".py",
   "mimetype": "text/x-python",
   "name": "python",
   "nbconvert_exporter": "python",
   "pygments_lexer": "ipython3",
   "version": "3.6.8"
  }
 },
 "nbformat": 4,
 "nbformat_minor": 2
}
