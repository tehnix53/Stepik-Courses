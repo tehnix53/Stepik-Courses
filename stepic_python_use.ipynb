{
 "cells": [
  {
   "cell_type": "markdown",
   "metadata": {},
   "source": [
    "## Namespaces"
   ]
  },
  {
   "cell_type": "code",
   "execution_count": 170,
   "metadata": {},
   "outputs": [
    {
     "name": "stdout",
     "output_type": "stream",
     "text": [
      "[1, 2, 3, 3, 4, 5]\n"
     ]
    }
   ],
   "source": [
    "## add list methods\n",
    "a = [1,2,3]\n",
    "a.extend([3,4,5])\n",
    "print (a)"
   ]
  },
  {
   "cell_type": "code",
   "execution_count": 171,
   "metadata": {},
   "outputs": [
    {
     "data": {
      "text/plain": [
       "5"
      ]
     },
     "execution_count": 171,
     "metadata": {},
     "output_type": "execute_result"
    }
   ],
   "source": [
    "a.pop()"
   ]
  },
  {
   "cell_type": "code",
   "execution_count": 174,
   "metadata": {},
   "outputs": [
    {
     "data": {
      "text/plain": [
       "[2, 3, 4]"
      ]
     },
     "execution_count": 174,
     "metadata": {},
     "output_type": "execute_result"
    }
   ],
   "source": [
    "a"
   ]
  },
  {
   "cell_type": "code",
   "execution_count": 173,
   "metadata": {},
   "outputs": [
    {
     "data": {
      "text/plain": [
       "(3, 1)"
      ]
     },
     "execution_count": 173,
     "metadata": {},
     "output_type": "execute_result"
    }
   ],
   "source": [
    "a.pop(3), a.pop(0)"
   ]
  },
  {
   "cell_type": "code",
   "execution_count": 351,
   "metadata": {},
   "outputs": [
    {
     "data": {
      "text/plain": [
       "(1, 2, 3, 4, 5, 6)"
      ]
     },
     "execution_count": 351,
     "metadata": {},
     "output_type": "execute_result"
    }
   ],
   "source": [
    "# unpack list through star expression\n",
    "(1,2,(*(3,4,5)),6)"
   ]
  },
  {
   "cell_type": "code",
   "execution_count": null,
   "metadata": {},
   "outputs": [],
   "source": [
    "## Namespace Quiz\n",
    "\n",
    "parent_dict={'global': 'None', 'foo':'global', 'bar':'foo'}\n",
    "var_dict = {'global':[], 'foo':[], 'bar':[] }\n",
    "\n",
    "def add_var(nmsp, var):\n",
    "    var_dict[nmsp]+=[var]\n",
    "\n",
    "def create (nmsp, parent):\n",
    "    var_dict[nmsp] = []\n",
    "    parent_dict[nmsp]=parent\n",
    "    \n",
    "# рекурсия!!!!!\n",
    "def get (nmsp,var):\n",
    "    try:\n",
    "        if var in var_dict[nmsp]:\n",
    "            return nmsp\n",
    "        else:\n",
    "            return get(parent_dict[nmsp], var)\n",
    "    except KeyError:\n",
    "        return None\n",
    "    \n",
    "n = int(input())\n",
    "while n != 0 :\n",
    "    cmd, nmsp, var = input().split( ) \n",
    "    n-=1    \n",
    "    if cmd == 'add':\n",
    "        add_var(nmsp, var)\n",
    "    elif cmd == 'create':\n",
    "        create(nmsp,var)\n",
    "    elif cmd == 'get':\n",
    "        print(get(nmsp,var))"
   ]
  },
  {
   "cell_type": "markdown",
   "metadata": {},
   "source": [
    "## Class"
   ]
  },
  {
   "cell_type": "code",
   "execution_count": 84,
   "metadata": {},
   "outputs": [],
   "source": [
    "class MyClass:\n",
    "    a = 10\n",
    "    b = 20\n",
    "    def funct():\n",
    "        print ('hello')"
   ]
  },
  {
   "cell_type": "code",
   "execution_count": 73,
   "metadata": {},
   "outputs": [
    {
     "data": {
      "text/plain": [
       "'putin'"
      ]
     },
     "execution_count": 73,
     "metadata": {},
     "output_type": "execute_result"
    }
   ],
   "source": [
    "## конструктор классов сам ничего не выводит, но выводит при обращении к его аргументам\n",
    "class family:\n",
    "    def __init__(self,a,b,c):\n",
    "        self.name = a\n",
    "        self.surename = b\n",
    "        self.fam = c\n",
    "        \n",
    "example = family('vladimir', 'vladimirovich', 'putin')\n",
    "example.fam"
   ]
  },
  {
   "cell_type": "code",
   "execution_count": 85,
   "metadata": {},
   "outputs": [
    {
     "data": {
      "text/plain": [
       "__main__.MyClass"
      ]
     },
     "execution_count": 85,
     "metadata": {},
     "output_type": "execute_result"
    }
   ],
   "source": [
    "MyClass"
   ]
  },
  {
   "cell_type": "code",
   "execution_count": 173,
   "metadata": {},
   "outputs": [],
   "source": [
    "class MoneyBox:\n",
    "    def __init__(self,capacity):\n",
    "        self.capacity = capacity\n",
    "        self.money = 0\n",
    "    def can_add(self,v):\n",
    "        if v+self.money<=self.capacity:\n",
    "            return True\n",
    "        else:\n",
    "            return False\n",
    "    def add(self,v):\n",
    "        if self.can_add(v) == True:\n",
    "            self.money+=v\n",
    "        else:\n",
    "            return False"
   ]
  },
  {
   "cell_type": "code",
   "execution_count": null,
   "metadata": {},
   "outputs": [],
   "source": [
    "### 2"
   ]
  },
  {
   "cell_type": "code",
   "execution_count": 309,
   "metadata": {},
   "outputs": [],
   "source": [
    "class Buffer:\n",
    "    def __init__(self):\n",
    "        self.number = []\n",
    "        \n",
    "    def add(self, *a):\n",
    "        self.number+=list(a)\n",
    "            \n",
    "        if len(self.number)//5 >0:\n",
    "            midle = self.number\n",
    "            self.number = self.number[len(midle)//5*5:] \n",
    "            summa = []\n",
    "            for i in range(len(midle)//5):\n",
    "                print (sum(midle[5*i:5*(i+1)]))\n",
    "           \n",
    "            \n",
    "    def get_current_part(self):\n",
    "        return self.number    "
   ]
  },
  {
   "cell_type": "markdown",
   "metadata": {},
   "source": [
    "## Наследование классов\n",
    "### method resolution order"
   ]
  },
  {
   "cell_type": "code",
   "execution_count": 2,
   "metadata": {},
   "outputs": [
    {
     "data": {
      "text/plain": [
       "[__main__.A, __main__.B, object]"
      ]
     },
     "execution_count": 2,
     "metadata": {},
     "output_type": "execute_result"
    }
   ],
   "source": [
    "class B:\n",
    "    pass\n",
    "class A(list):\n",
    "    pass\n",
    "class A(B):\n",
    "    pass\n",
    "A.mro()"
   ]
  },
  {
   "cell_type": "code",
   "execution_count": 5,
   "metadata": {},
   "outputs": [
    {
     "data": {
      "text/plain": [
       "(False, True)"
      ]
     },
     "execution_count": 5,
     "metadata": {},
     "output_type": "execute_result"
    }
   ],
   "source": [
    "issubclass(B,A), issubclass(A,B)"
   ]
  },
  {
   "cell_type": "code",
   "execution_count": 9,
   "metadata": {},
   "outputs": [
    {
     "data": {
      "text/plain": [
       "True"
      ]
     },
     "execution_count": 9,
     "metadata": {},
     "output_type": "execute_result"
    }
   ],
   "source": [
    "# является ли тип первого аргумента наследником второго?\n",
    "x = B()\n",
    "isinstance(x,B)"
   ]
  },
  {
   "cell_type": "markdown",
   "metadata": {},
   "source": [
    "## QUIZ 1"
   ]
  },
  {
   "cell_type": "code",
   "execution_count": null,
   "metadata": {},
   "outputs": [],
   "source": [
    "def print_val(diction, key):\n",
    "    list_x = []\n",
    "    if key not in diction:\n",
    "        return list_x\n",
    "    else:\n",
    "        for element in diction[key]:\n",
    "            try:\n",
    "                list_x += [element]\n",
    "                list_x += print_val(diction,element)\n",
    "            except KeyError:\n",
    "                continue\n",
    "            except TypeError:\n",
    "                continue\n",
    "        return list_x\n",
    "\n",
    "def is_parent(diction, parent, child):\n",
    "    if parent in print_val(diction,child):\n",
    "        return 'Yes'\n",
    "    elif parent == child:\n",
    "        return 'Yes'\n",
    "    else:\n",
    "        return 'No'\n",
    "\n",
    "def preprocess(string):\n",
    "    key = str(string).split(':')[0].split()[0]\n",
    "    if key not in quiz_dict:\n",
    "        quiz_dict[key] = []\n",
    "    try:\n",
    "        value = str(string).split(':')[1]\n",
    "    except IndexError:\n",
    "        value = []\n",
    "        \n",
    "    try:\n",
    "        if len(quiz_dict[key]) == 0:\n",
    "            quiz_dict[key]=[value.split()[0]]\n",
    "            for element in value[2::].split():\n",
    "                quiz_dict[key] +=[element]\n",
    "        else:\n",
    "            for element in value.split():\n",
    "                quiz_dict[key] +=[element]\n",
    "                \n",
    "    except KeyError:\n",
    "        try:\n",
    "                if value[0] not in quiz_dict: \n",
    "                    quiz_dict[key]=[value[0]]\n",
    "                    for element in value[1::].split():\n",
    "                        quiz_dict[key] +=[element]\n",
    "                else:\n",
    "                    pass\n",
    "        except IndexError:\n",
    "            pass\n",
    "    except AttributeError:\n",
    "        pass                \n",
    "    except IndexError:\n",
    "        pass\n",
    "    \n",
    "quiz_dict = {}  \n",
    "n = int(input())\n",
    "for i in range (n):\n",
    "    preprocess(input())\n",
    "    \n",
    "q = int(input())\n",
    "query = []\n",
    "for i in range(q):\n",
    "    query+=(input().split())\n",
    "    \n",
    "for i in range(len(query)):\n",
    "    try:\n",
    "        if i%2 == 0:\n",
    "            print (is_parent(quiz_dict,query[i],query[i+1]))\n",
    "    except IndexError:\n",
    "        pass"
   ]
  },
  {
   "cell_type": "markdown",
   "metadata": {},
   "source": [
    "### Extended stack"
   ]
  },
  {
   "cell_type": "code",
   "execution_count": 169,
   "metadata": {},
   "outputs": [
    {
     "data": {
      "text/plain": [
       "[1, 2, 3, 4]"
      ]
     },
     "execution_count": 169,
     "metadata": {},
     "output_type": "execute_result"
    }
   ],
   "source": [
    "class ExtendedStack(list):\n",
    "    def sum(self):\n",
    "        part1 = self.pop()\n",
    "        part2 = self.pop()\n",
    "        self.append(part1+part2)\n",
    "  \n",
    "    def sub(self):\n",
    "        part1 = self.pop()\n",
    "        part2 = self.pop()\n",
    "        self.append(part1-part2)\n",
    "\n",
    "    def mul(self):\n",
    "        part1 = self.pop()\n",
    "        part2 = self.pop()\n",
    "        self.append(part1*part2)\n",
    "\n",
    "    def div(self):\n",
    "        part1 = self.pop()\n",
    "        part2 = self.pop()\n",
    "        self.append(part1//part2)"
   ]
  },
  {
   "cell_type": "markdown",
   "metadata": {},
   "source": [
    "## LOGGABLE QUIZ"
   ]
  },
  {
   "cell_type": "code",
   "execution_count": 177,
   "metadata": {},
   "outputs": [],
   "source": [
    "import time\n",
    "\n",
    "class Loggable:\n",
    "    def log(self, msg):\n",
    "        print(str(time.ctime()) + \": \" + str(msg))"
   ]
  },
  {
   "cell_type": "code",
   "execution_count": 207,
   "metadata": {},
   "outputs": [],
   "source": [
    "class LoggableList(list,Loggable):\n",
    "    def append(self,element):\n",
    "        super(LoggableList, self).append(element)\n",
    "        self.log(element)\n",
    "   "
   ]
  },
  {
   "cell_type": "code",
   "execution_count": 208,
   "metadata": {},
   "outputs": [
    {
     "name": "stdout",
     "output_type": "stream",
     "text": [
      "Tue Dec 24 21:05:43 2019: msg 1\n",
      "Tue Dec 24 21:05:43 2019: msg 2\n",
      "['msg 1', 'msg 2']\n"
     ]
    }
   ],
   "source": [
    "a = LoggableList()\n",
    "a.append('msg 1')\n",
    "a.append('msg 2')\n",
    "print(a)"
   ]
  },
  {
   "cell_type": "code",
   "execution_count": 209,
   "metadata": {},
   "outputs": [
    {
     "data": {
      "text/plain": [
       "'Thu Dec 26 18:25:13 2019'"
      ]
     },
     "execution_count": 209,
     "metadata": {},
     "output_type": "execute_result"
    }
   ],
   "source": [
    "time.ctime()"
   ]
  },
  {
   "cell_type": "markdown",
   "metadata": {},
   "source": [
    "## EXCEPTIONS"
   ]
  },
  {
   "cell_type": "code",
   "execution_count": 213,
   "metadata": {},
   "outputs": [
    {
     "name": "stdout",
     "output_type": "stream",
     "text": [
      "errror :(\n"
     ]
    }
   ],
   "source": [
    "try:\n",
    "    2//0\n",
    "except ZeroDivisionError:\n",
    "    print ('errror :(')"
   ]
  },
  {
   "cell_type": "code",
   "execution_count": 214,
   "metadata": {},
   "outputs": [
    {
     "name": "stdout",
     "output_type": "stream",
     "text": [
      "errror :(\n"
     ]
    }
   ],
   "source": [
    "try:\n",
    "    2//0\n",
    "except ArithmeticError:\n",
    "    print ('errror :(')"
   ]
  },
  {
   "cell_type": "code",
   "execution_count": 225,
   "metadata": {},
   "outputs": [
    {
     "data": {
      "text/plain": [
       "tuple"
      ]
     },
     "execution_count": 225,
     "metadata": {},
     "output_type": "execute_result"
    }
   ],
   "source": [
    "type(('g','h'))"
   ]
  },
  {
   "cell_type": "code",
   "execution_count": 220,
   "metadata": {},
   "outputs": [
    {
     "name": "stdout",
     "output_type": "stream",
     "text": [
      "errror :(\n"
     ]
    }
   ],
   "source": [
    "try:\n",
    "    2//0\n",
    "except (ArithmeticError,TypeError):\n",
    "    print ('errror :(')"
   ]
  },
  {
   "cell_type": "code",
   "execution_count": 226,
   "metadata": {},
   "outputs": [
    {
     "name": "stdout",
     "output_type": "stream",
     "text": [
      "integer division or modulo by zero <class 'ZeroDivisionError'> ('integer division or modulo by zero',)\n"
     ]
    }
   ],
   "source": [
    "try:\n",
    "    2//0\n",
    "except (ArithmeticError,TypeError) as e:\n",
    "    print (e, type(e), e.args)"
   ]
  },
  {
   "cell_type": "code",
   "execution_count": 229,
   "metadata": {},
   "outputs": [
    {
     "name": "stdout",
     "output_type": "stream",
     "text": [
      "errror :(\n",
      "end\n"
     ]
    }
   ],
   "source": [
    "try:\n",
    "    2//0\n",
    "except:\n",
    "    print ('errror :(')\n",
    "finally:\n",
    "    print ('end')"
   ]
  },
  {
   "cell_type": "code",
   "execution_count": 218,
   "metadata": {},
   "outputs": [
    {
     "data": {
      "text/plain": [
       "[ZeroDivisionError, ArithmeticError, Exception, BaseException, object]"
      ]
     },
     "execution_count": 218,
     "metadata": {},
     "output_type": "execute_result"
    }
   ],
   "source": [
    "# method resolution order for exception\n",
    "ZeroDivisionError.mro()"
   ]
  },
  {
   "cell_type": "code",
   "execution_count": 230,
   "metadata": {},
   "outputs": [
    {
     "name": "stdout",
     "output_type": "stream",
     "text": [
      "no errror :)\n",
      "end\n"
     ]
    }
   ],
   "source": [
    "try:\n",
    "    2//2\n",
    "except (ArithmeticError,TypeError):\n",
    "    print ('errror :(')\n",
    "else:\n",
    "    print ('no errror :)')\n",
    "finally:\n",
    "    print ('end')"
   ]
  },
  {
   "cell_type": "code",
   "execution_count": 233,
   "metadata": {},
   "outputs": [
    {
     "name": "stdout",
     "output_type": "stream",
     "text": [
      "ArithmeticError\n"
     ]
    }
   ],
   "source": [
    "try:\n",
    "    2//0\n",
    "\n",
    "except ArithmeticError:\n",
    "    print(\"ArithmeticError\")\n",
    "except AssertionError:\n",
    "    print(\"AssertionError\")"
   ]
  },
  {
   "cell_type": "code",
   "execution_count": 2,
   "metadata": {},
   "outputs": [
    {
     "name": "stdout",
     "output_type": "stream",
     "text": [
      "Please enter you name: Ivan\n",
      "hello Ivan\n"
     ]
    }
   ],
   "source": [
    "class BadName(Exception):\n",
    "    pass\n",
    "\n",
    "def greet(name):\n",
    "    if name[0].isupper():\n",
    "        return ('hello ' + name)\n",
    "    else:\n",
    "        raise BadName(name +' is inappopriate name')\n",
    "        \n",
    "while True:\n",
    "    try:\n",
    "        name = input('Please enter you name: ')\n",
    "        greeting = greet(name)\n",
    "        print (greeting)\n",
    "    except ValueError:\n",
    "        print ('Try again')\n",
    "    else:\n",
    "        break"
   ]
  },
  {
   "cell_type": "code",
   "execution_count": null,
   "metadata": {},
   "outputs": [],
   "source": [
    "class LoggableList(list,Loggable):\n",
    "    def append(self,element):\n",
    "        super(LoggableList, self).append(element)\n",
    "        self.log(element)\n",
    "   "
   ]
  },
  {
   "cell_type": "code",
   "execution_count": 32,
   "metadata": {},
   "outputs": [
    {
     "name": "stdout",
     "output_type": "stream",
     "text": [
      "None\n",
      "[1]\n"
     ]
    }
   ],
   "source": [
    "class NonPositiveError(Exception):\n",
    "    pass\n",
    "class PositiveList(list):\n",
    "    def append(self,element):\n",
    "        if element<0:\n",
    "            raise NonPositiveError\n",
    "        else:\n",
    "            super(PositiveList, self).append(element)\n",
    "            \n",
    "            \n",
    "a = PositiveList()\n",
    "print (a.append(1))\n",
    "print (a)"
   ]
  },
  {
   "cell_type": "markdown",
   "metadata": {},
   "source": [
    "### EXCEPTION GRAPH QUIZ"
   ]
  },
  {
   "cell_type": "code",
   "execution_count": null,
   "metadata": {},
   "outputs": [],
   "source": [
    "n = int(input())\n",
    "parents = {}\n",
    "for _ in range(n):\n",
    "    a = input().split()\n",
    "    parents[a[0]] = [] if len(a) == 1 else a[2:]\n",
    "\n",
    "def find_path(graph, start, end, path=[]):\n",
    "    path = path + [start]\n",
    "    if start == end:\n",
    "        return path\n",
    "    if not start in graph:\n",
    "        return None\n",
    "    for node in graph[start]:\n",
    "        if node not in path:\n",
    "            newpath = find_path(graph, node, end, path)\n",
    "            if newpath: return newpath\n",
    "    return None\n",
    "    \n",
    "def cut_list(this_list, number):\n",
    "    my_list = []\n",
    "    for i in range(len(this_list)-(len(this_list) - int(number))):\n",
    "        my_list += [(this_list[number], this_list[i])]\n",
    "    return my_list\n",
    "\n",
    "question = []\n",
    "n = int(input())\n",
    "for _ in range(n):\n",
    "    a = input().split()\n",
    "    question += a\n",
    "\n",
    "answer = []\n",
    "for i in range(len(question)):    \n",
    "    for element in cut_list(question, i):\n",
    "        if (find_path(parents, element[0], element[1]))!= None:\n",
    "            if (question[i]) not in answer:\n",
    "                answer += [question[i]]\n",
    "                \n",
    "for element in (answer):\n",
    "    print (element)"
   ]
  },
  {
   "cell_type": "markdown",
   "metadata": {},
   "source": [
    "## имя модуля"
   ]
  },
  {
   "cell_type": "code",
   "execution_count": 1,
   "metadata": {},
   "outputs": [
    {
     "name": "stdout",
     "output_type": "stream",
     "text": [
      "__main__\n"
     ]
    }
   ],
   "source": [
    "print(__name__)"
   ]
  },
  {
   "cell_type": "markdown",
   "metadata": {},
   "source": [
    "## ИМПОРТ"
   ]
  },
  {
   "cell_type": "code",
   "execution_count": 8,
   "metadata": {},
   "outputs": [
    {
     "name": "stdout",
     "output_type": "stream",
     "text": [
      "<class 'module'>\n"
     ]
    }
   ],
   "source": [
    "import cv2\n",
    "print (type(cv2))"
   ]
  },
  {
   "cell_type": "code",
   "execution_count": 4,
   "metadata": {},
   "outputs": [
    {
     "name": "stdout",
     "output_type": "stream",
     "text": [
      "<class 'dict'>\n"
     ]
    }
   ],
   "source": [
    "import sys\n",
    "print (type(sys.modules))"
   ]
  },
  {
   "cell_type": "code",
   "execution_count": 9,
   "metadata": {},
   "outputs": [
    {
     "name": "stdout",
     "output_type": "stream",
     "text": [
      "/usr/lib/python36.zip\n",
      "/usr/lib/python3.6\n",
      "/usr/lib/python3.6/lib-dynload\n",
      "\n",
      "/home/alex/PycharmProjects/testAPI/venv/lib/python3.6/site-packages\n",
      "/home/alex/PycharmProjects/testAPI/venv/lib/python3.6/site-packages/setuptools-40.8.0-py3.6.egg\n",
      "/home/alex/PycharmProjects/testAPI/venv/lib/python3.6/site-packages/pip-19.0.3-py3.6.egg\n",
      "/home/alex/PycharmProjects/testAPI/venv/lib/python3.6/site-packages/IPython/extensions\n",
      "/home/alex/.ipython\n"
     ]
    }
   ],
   "source": [
    "for path in sys.path:\n",
    "    print (path)"
   ]
  },
  {
   "cell_type": "markdown",
   "metadata": {},
   "source": [
    "## datetime"
   ]
  },
  {
   "cell_type": "code",
   "execution_count": 12,
   "metadata": {},
   "outputs": [],
   "source": [
    "import datetime as d"
   ]
  },
  {
   "cell_type": "code",
   "execution_count": 17,
   "metadata": {},
   "outputs": [
    {
     "name": "stdout",
     "output_type": "stream",
     "text": [
      "2019-02-01\n"
     ]
    }
   ],
   "source": [
    "day = d.date(2019,2,1)\n",
    "print (day)"
   ]
  },
  {
   "cell_type": "code",
   "execution_count": 19,
   "metadata": {},
   "outputs": [
    {
     "name": "stdout",
     "output_type": "stream",
     "text": [
      "2019-02-03\n"
     ]
    }
   ],
   "source": [
    "delta = day +d.timedelta(days = 2)\n",
    "print (delta)"
   ]
  },
  {
   "cell_type": "markdown",
   "metadata": {},
   "source": [
    "## encrypy"
   ]
  },
  {
   "cell_type": "code",
   "execution_count": 1,
   "metadata": {},
   "outputs": [],
   "source": [
    "import simplecrypt"
   ]
  },
  {
   "cell_type": "code",
   "execution_count": 2,
   "metadata": {},
   "outputs": [],
   "source": [
    "with open(\"/home/alex/Загрузки/encrypted.bin\", \"rb\") as inp:\n",
    "    encrypted = inp.read()"
   ]
  },
  {
   "cell_type": "code",
   "execution_count": 3,
   "metadata": {},
   "outputs": [
    {
     "data": {
      "text/plain": [
       "b'sc\\x00\\x02\\x96\\x93^\\xd7&1\\x9f\\xd0\\x14\\x02\\x14\\xd1\\x92`\\xeb\\x1b\\xdbulr\\x0e\\xeb\\x0f\\xf0D\\xcf\\x87\\xf5\\xd5\\xf2oKA\\x89b/\\xaa\\xa6y;\\x8b)\\x89\\xbdl\\x0f\\x96\\x144\\x8e\\xe2P\\xa8\\xcf\\xc7T\\xf6>.`m\\xfbC/\\xc1V\\xd2>\\xd0\\xaf\\xbb0%V\\x14\\xac\\xf7\\n\\xcd'"
      ]
     },
     "execution_count": 3,
     "metadata": {},
     "output_type": "execute_result"
    }
   ],
   "source": [
    "encrypted"
   ]
  },
  {
   "cell_type": "code",
   "execution_count": 43,
   "metadata": {},
   "outputs": [],
   "source": [
    "p =  open ('/home/alex/Загрузки/passwords.txt', 'r', encoding = \"utf-8\") "
   ]
  },
  {
   "cell_type": "code",
   "execution_count": 44,
   "metadata": {},
   "outputs": [],
   "source": [
    "passwords = p.read().splitlines()"
   ]
  },
  {
   "cell_type": "code",
   "execution_count": 53,
   "metadata": {},
   "outputs": [
    {
     "name": "stdout",
     "output_type": "stream",
     "text": [
      "not9XB8nsIqRfYeswC\n",
      "not4sEhUGLEZti9BiN\n",
      "notbDjmT0NcIW8nzhb\n",
      "notZN6QQoMOO1ZQLUY\n",
      "b'Alice loves Bob'\n",
      "nottnnX7HH3vJ9Hiji\n",
      "notC24TJYYkqekv40l\n",
      "notB2ropluPaMAitzE\n",
      "notDRezNUVnr2zC0CP\n",
      "notXCNmpTvvZb1n3mX\n"
     ]
    }
   ],
   "source": [
    "for element in passwords:\n",
    "    try:\n",
    "        print (simplecrypt.decrypt(element,encrypted))\n",
    "    except:\n",
    "        print ('not' + element)"
   ]
  },
  {
   "cell_type": "markdown",
   "metadata": {},
   "source": [
    "## Iterators"
   ]
  },
  {
   "cell_type": "code",
   "execution_count": 6,
   "metadata": {},
   "outputs": [],
   "source": [
    "sample_list = [1,2,3,4,5]\n",
    "sample_dict = {'auythor': 'King', 'book': 'Langoliers', 'date': '1990'}\n",
    "sample_string = 'Book'"
   ]
  },
  {
   "cell_type": "code",
   "execution_count": 19,
   "metadata": {},
   "outputs": [
    {
     "name": "stdout",
     "output_type": "stream",
     "text": [
      "1\n",
      "2\n",
      "3\n",
      "4\n",
      "5\n"
     ]
    }
   ],
   "source": [
    "for pair in sample_list:\n",
    "    print (pair)"
   ]
  },
  {
   "cell_type": "code",
   "execution_count": 52,
   "metadata": {},
   "outputs": [
    {
     "data": {
      "text/plain": [
       "0"
      ]
     },
     "execution_count": 52,
     "metadata": {},
     "output_type": "execute_result"
    }
   ],
   "source": [
    "# one more sample\n",
    "next(iter(i for i in range(3)))"
   ]
  },
  {
   "cell_type": "code",
   "execution_count": 10,
   "metadata": {},
   "outputs": [
    {
     "data": {
      "text/plain": [
       "<list_iterator at 0x7f5dcf84f198>"
      ]
     },
     "execution_count": 10,
     "metadata": {},
     "output_type": "execute_result"
    }
   ],
   "source": [
    "iter(sample_list)"
   ]
  },
  {
   "cell_type": "code",
   "execution_count": 18,
   "metadata": {},
   "outputs": [
    {
     "name": "stdout",
     "output_type": "stream",
     "text": [
      "auythor\n",
      "book\n",
      "date\n"
     ]
    }
   ],
   "source": [
    "\n",
    "it = iter(sample_dict)\n",
    "while True:\n",
    "    try:\n",
    "        i = next(it)\n",
    "        print (i)\n",
    "    except StopIteration:\n",
    "        break"
   ]
  },
  {
   "cell_type": "code",
   "execution_count": 253,
   "metadata": {},
   "outputs": [],
   "source": [
    "class MyIterator:\n",
    "    def __init__(self,iterable):\n",
    "        self.index = 0\n",
    "        self.iterable = iterable\n",
    "        \n",
    "    def __next__(self):\n",
    "        if self.index < len(self.iterable):\n",
    "            self.index += 1\n",
    "            return self.iterable[self.index - 1]\n",
    "        raise StopIteration"
   ]
  },
  {
   "cell_type": "code",
   "execution_count": 254,
   "metadata": {},
   "outputs": [
    {
     "data": {
      "text/plain": [
       "1"
      ]
     },
     "execution_count": 254,
     "metadata": {},
     "output_type": "execute_result"
    }
   ],
   "source": [
    "a =  MyIterator([1,2,3])\n",
    "next(a)"
   ]
  },
  {
   "cell_type": "markdown",
   "metadata": {},
   "source": [
    "## Generator"
   ]
  },
  {
   "cell_type": "code",
   "execution_count": 43,
   "metadata": {},
   "outputs": [
    {
     "name": "stdout",
     "output_type": "stream",
     "text": [
      "<class 'generator'>\n"
     ]
    }
   ],
   "source": [
    "def generator_test(k):   \n",
    "    for i in range(k):\n",
    "        yield (i)\n",
    "    return 'no more elements'\n",
    "\n",
    "print (type(generator_test(3)))"
   ]
  },
  {
   "cell_type": "code",
   "execution_count": 44,
   "metadata": {},
   "outputs": [
    {
     "name": "stdout",
     "output_type": "stream",
     "text": [
      "0\n",
      "1\n"
     ]
    },
    {
     "ename": "StopIteration",
     "evalue": "no more elements",
     "output_type": "error",
     "traceback": [
      "\u001b[0;31m---------------------------------------------------------------------------\u001b[0m",
      "\u001b[0;31mStopIteration\u001b[0m                             Traceback (most recent call last)",
      "\u001b[0;32m<ipython-input-44-8ba2d1ff0b1f>\u001b[0m in \u001b[0;36m<module>\u001b[0;34m\u001b[0m\n\u001b[1;32m      6\u001b[0m \u001b[0my\u001b[0m \u001b[0;34m=\u001b[0m \u001b[0mnext\u001b[0m\u001b[0;34m(\u001b[0m\u001b[0mgen\u001b[0m\u001b[0;34m)\u001b[0m\u001b[0;34m\u001b[0m\u001b[0;34m\u001b[0m\u001b[0m\n\u001b[1;32m      7\u001b[0m \u001b[0mprint\u001b[0m \u001b[0;34m(\u001b[0m\u001b[0my\u001b[0m\u001b[0;34m)\u001b[0m\u001b[0;34m\u001b[0m\u001b[0;34m\u001b[0m\u001b[0m\n\u001b[0;32m----> 8\u001b[0;31m \u001b[0mz\u001b[0m \u001b[0;34m=\u001b[0m \u001b[0mnext\u001b[0m\u001b[0;34m(\u001b[0m\u001b[0mgen\u001b[0m\u001b[0;34m)\u001b[0m\u001b[0;34m\u001b[0m\u001b[0;34m\u001b[0m\u001b[0m\n\u001b[0m\u001b[1;32m      9\u001b[0m \u001b[0mprint\u001b[0m \u001b[0;34m(\u001b[0m\u001b[0mz\u001b[0m\u001b[0;34m)\u001b[0m\u001b[0;34m\u001b[0m\u001b[0;34m\u001b[0m\u001b[0m\n\u001b[1;32m     10\u001b[0m \u001b[0;34m\u001b[0m\u001b[0m\n",
      "\u001b[0;31mStopIteration\u001b[0m: no more elements"
     ]
    }
   ],
   "source": [
    "# с помощью генераторов реализуется концепция отложенного исполнения\n",
    "# генератор возвращает занчения только при NEXT и выдает значение только от отдного YIELD до следующего\n",
    "gen = generator_test(2)\n",
    "x = next(gen)\n",
    "print (x)\n",
    "y = next(gen)\n",
    "print (y)\n",
    "z = next(gen)\n",
    "print (z)\n",
    "\n",
    "# если следующий элемент не находится, то ошибка StopIteration"
   ]
  },
  {
   "cell_type": "code",
   "execution_count": 47,
   "metadata": {},
   "outputs": [
    {
     "data": {
      "text/plain": [
       "(True, True)"
      ]
     },
     "execution_count": 47,
     "metadata": {},
     "output_type": "execute_result"
    }
   ],
   "source": [
    "2%2==0, 6%3 == 0"
   ]
  },
  {
   "cell_type": "markdown",
   "metadata": {},
   "source": [
    "## Iter sample"
   ]
  },
  {
   "cell_type": "code",
   "execution_count": 76,
   "metadata": {},
   "outputs": [],
   "source": [
    "def mul2(x):\n",
    "    return x % 2 == 0\n",
    "\n",
    "def mul3(x):\n",
    "    return x % 3 == 0\n",
    "\n",
    "def mul5(x):\n",
    "    return x % 5 == 0"
   ]
  },
  {
   "cell_type": "code",
   "execution_count": 220,
   "metadata": {},
   "outputs": [
    {
     "data": {
      "text/plain": [
       "True"
      ]
     },
     "execution_count": 220,
     "metadata": {},
     "output_type": "execute_result"
    }
   ],
   "source": [
    "mul3(9)"
   ]
  },
  {
   "cell_type": "code",
   "execution_count": 247,
   "metadata": {},
   "outputs": [
    {
     "data": {
      "text/plain": [
       "False"
      ]
     },
     "execution_count": 247,
     "metadata": {},
     "output_type": "execute_result"
    }
   ],
   "source": [
    "judge_any(False,True)"
   ]
  },
  {
   "cell_type": "code",
   "execution_count": 264,
   "metadata": {},
   "outputs": [],
   "source": [
    "class multifilter:\n",
    "    \n",
    "    def judge_half(pos, neg):\n",
    "        if (pos >= neg):\n",
    "            return True\n",
    "        else:\n",
    "            return False\n",
    "        \n",
    "    def judge_any(pos, neg):\n",
    "        if pos >= 1:\n",
    "            return True\n",
    "        else:\n",
    "            return False\n",
    "        \n",
    "    def judge_all(pos, neg):\n",
    "        if neg == 0:\n",
    "            return True\n",
    "        else:\n",
    "            return False\n",
    "     \n",
    "    def __init__(self, iterable, *funcs, judge = judge_any):\n",
    "        self.iterable = iterable\n",
    "                     \n",
    "        def fnc(lst, *func):\n",
    "                res = []\n",
    "                num = []\n",
    "                for i in lst:\n",
    "                    midle = []\n",
    "                    for f in func:\n",
    "                        midle +=[f(i)]\n",
    "                    neg = 0\n",
    "                    pos  = 0\n",
    "                    for element in midle:\n",
    "                        if element == True:\n",
    "                            pos += 1\n",
    "                        else:\n",
    "                            neg += 1\n",
    "                    if judge(neg,pos) == True:\n",
    "                        res += [i]                            \n",
    "                return(res)\n",
    "        \n",
    "        self.result = fnc(iterable,*funcs)\n",
    "            \n",
    "    def __iter__(self):\n",
    "        for element in self.result:\n",
    "            yield (element)\n",
    "    "
   ]
  },
  {
   "cell_type": "code",
   "execution_count": 266,
   "metadata": {},
   "outputs": [
    {
     "name": "stdout",
     "output_type": "stream",
     "text": [
      "[1, 2, 3, 4, 5, 7, 8, 9, 11, 13, 14, 16, 17, 19, 21, 22, 23, 25, 26, 27, 28, 29]\n"
     ]
    }
   ],
   "source": [
    "a = [i for i in range(31)] # [0, 1, 2, ... , 30]\n",
    "\n",
    "print(list(multifilter(a, mul2, mul3, mul5, judge = judge_half))) "
   ]
  },
  {
   "cell_type": "markdown",
   "metadata": {},
   "source": [
    "## list comprehension"
   ]
  },
  {
   "cell_type": "code",
   "execution_count": 288,
   "metadata": {},
   "outputs": [
    {
     "name": "stdout",
     "output_type": "stream",
     "text": [
      "[6, 8, 10]\n"
     ]
    }
   ],
   "source": [
    "## это объявление содержимого списка внутри списка\n",
    "\n",
    "a = [1,2,3,4,5]\n",
    "\n",
    "y = [i*2 for i in a if i>=3]\n",
    "print (y)"
   ]
  },
  {
   "cell_type": "code",
   "execution_count": 10,
   "metadata": {},
   "outputs": [
    {
     "data": {
      "text/plain": [
       "[1, 4, 7]"
      ]
     },
     "execution_count": 10,
     "metadata": {},
     "output_type": "execute_result"
    }
   ],
   "source": [
    "# range stert stop step\n",
    "[i for i in range(1,9,3)]"
   ]
  },
  {
   "cell_type": "code",
   "execution_count": 290,
   "metadata": {},
   "outputs": [
    {
     "name": "stdout",
     "output_type": "stream",
     "text": [
      "[(0, 0), (1, 0), (1, 1), (2, 0), (2, 1), (2, 2), (3, 0), (3, 1), (3, 2), (3, 3)]\n"
     ]
    }
   ],
   "source": [
    "z = [(x,y) for x in range (4) for y in range (4) if x>=y]\n",
    "print (z)"
   ]
  },
  {
   "cell_type": "code",
   "execution_count": 296,
   "metadata": {},
   "outputs": [
    {
     "name": "stdout",
     "output_type": "stream",
     "text": [
      "<generator object <genexpr> at 0x7f5dcebf1f68>\n",
      "(0, 0)\n",
      "(1, 0)\n"
     ]
    }
   ],
   "source": [
    "# усли поменять скобки, то будет генератор\n",
    "\n",
    "z = ((x,y) for x in range (4) for y in range (4) if x>=y)\n",
    "print (z)\n",
    "print (next(z))\n",
    "print (next(z))"
   ]
  },
  {
   "cell_type": "markdown",
   "metadata": {},
   "source": [
    "## work with files"
   ]
  },
  {
   "cell_type": "code",
   "execution_count": 305,
   "metadata": {},
   "outputs": [
    {
     "name": "stdout",
     "output_type": "stream",
     "text": [
      "9XB\n",
      "----\n",
      "'9XB'\n",
      "---\n",
      "8nsIqRfYeswC\n",
      "4sEhUGLEZti9BiN\n",
      "bDjmT0NcIW8nzhb\n",
      "ZN6QQoMOO1ZQLUY\n",
      "RVrF2qdMpoq6Lib\n",
      "tnnX7HH3vJ9Hiji\n",
      "C24TJYYkqekv40l\n",
      "B2ropluPaMAitzE\n",
      "DRezNUVnr2zC0CP\n",
      "XCNmpTvvZb1n3mX\n",
      "\n"
     ]
    }
   ],
   "source": [
    "# open + name + key - mode of opening: read,write, append, text, binary\n",
    "f = open('/home/alex/Загрузки/passwords.txt', 'r')\n",
    "# read -  and number of first symbols\n",
    "x = f.read(3)\n",
    "print (x)\n",
    "print('----')\n",
    "print (repr(x))\n",
    "print ('---')\n",
    "# print all\n",
    "y = f.read()\n",
    "print(y)\n",
    "f.close()"
   ]
  },
  {
   "cell_type": "code",
   "execution_count": 306,
   "metadata": {},
   "outputs": [
    {
     "name": "stdout",
     "output_type": "stream",
     "text": [
      "['8nsIqRfYeswC', '4sEhUGLEZti9BiN', 'bDjmT0NcIW8nzhb', 'ZN6QQoMOO1ZQLUY', 'RVrF2qdMpoq6Lib', 'tnnX7HH3vJ9Hiji', 'C24TJYYkqekv40l', 'B2ropluPaMAitzE', 'DRezNUVnr2zC0CP', 'XCNmpTvvZb1n3mX']\n"
     ]
    }
   ],
   "source": [
    "# в список!!\n",
    "y = y.splitlines()\n",
    "print (y)"
   ]
  },
  {
   "cell_type": "code",
   "execution_count": 312,
   "metadata": {},
   "outputs": [
    {
     "name": "stdout",
     "output_type": "stream",
     "text": [
      "9XB8nsIqRfYeswC\n"
     ]
    }
   ],
   "source": [
    "# построчное считывание\n",
    "f = open('/home/alex/Загрузки/passwords.txt', 'r')\n",
    "x = f.readline()\n",
    "# rstrip убирает пробелы и переносы\n",
    "x = x.rstrip()\n",
    "print(x)"
   ]
  },
  {
   "cell_type": "code",
   "execution_count": 318,
   "metadata": {},
   "outputs": [
    {
     "name": "stdout",
     "output_type": "stream",
     "text": [
      "'9XB8nsIqRfYeswC\\n'\n",
      "'9XB8nsIqRfYeswC'\n",
      "'4sEhUGLEZti9BiN\\n'\n",
      "'4sEhUGLEZti9BiN'\n",
      "'bDjmT0NcIW8nzhb\\n'\n",
      "'bDjmT0NcIW8nzhb'\n",
      "'ZN6QQoMOO1ZQLUY\\n'\n",
      "'ZN6QQoMOO1ZQLUY'\n",
      "'RVrF2qdMpoq6Lib\\n'\n",
      "'RVrF2qdMpoq6Lib'\n",
      "'tnnX7HH3vJ9Hiji\\n'\n",
      "'tnnX7HH3vJ9Hiji'\n",
      "'C24TJYYkqekv40l\\n'\n",
      "'C24TJYYkqekv40l'\n",
      "'B2ropluPaMAitzE\\n'\n",
      "'B2ropluPaMAitzE'\n",
      "'DRezNUVnr2zC0CP\\n'\n",
      "'DRezNUVnr2zC0CP'\n",
      "'XCNmpTvvZb1n3mX\\n'\n",
      "'XCNmpTvvZb1n3mX'\n"
     ]
    }
   ],
   "source": [
    "## итерация по file object\n",
    "f = open('/home/alex/Загрузки/passwords.txt', 'r')\n",
    "for i in f:\n",
    "    print (repr(i))\n",
    "    i = i.rstrip()\n",
    "    print (repr(i))\n",
    "f.close()"
   ]
  },
  {
   "cell_type": "code",
   "execution_count": 322,
   "metadata": {},
   "outputs": [],
   "source": [
    "## запись в файл\n",
    "## при открытии на запись - создаем файл\n",
    "f = open('text1.txt', 'w')\n",
    "# метод для записи в текст\n",
    "# \\n - перенос строки\n",
    "f.write('hello\\n')\n",
    "f.write('world')\n",
    "f.close()"
   ]
  },
  {
   "cell_type": "code",
   "execution_count": 323,
   "metadata": {},
   "outputs": [
    {
     "name": "stdout",
     "output_type": "stream",
     "text": [
      "hello\n",
      "\n",
      "world\n"
     ]
    }
   ],
   "source": [
    "f = open('text1.txt', 'r')\n",
    "for i in f:\n",
    "    print (i)"
   ]
  },
  {
   "cell_type": "code",
   "execution_count": 324,
   "metadata": {},
   "outputs": [],
   "source": [
    "f = open('text1.txt', 'w')\n",
    "\n",
    "lines = ['line1','line2', 'line3']\n",
    "contents = '\\n'.join(lines)\n",
    "f.write(contents)\n",
    "\n",
    "f.close()"
   ]
  },
  {
   "cell_type": "code",
   "execution_count": 331,
   "metadata": {},
   "outputs": [
    {
     "name": "stdout",
     "output_type": "stream",
     "text": [
      "line1\n",
      "\n",
      "line2\n",
      "\n",
      "line3\n",
      "\n",
      " Hello \n",
      "\n",
      "\n",
      "\n",
      " Hello \n",
      "\n"
     ]
    }
   ],
   "source": [
    "f = open('text1.txt', 'r')\n",
    "for i in f:\n",
    "    print (i)"
   ]
  },
  {
   "cell_type": "code",
   "execution_count": 330,
   "metadata": {},
   "outputs": [],
   "source": [
    "## дозаписать\n",
    "f = open('text1.txt', 'a')\n",
    "f.write('\\n Hello \\n')\n",
    "f.close()"
   ]
  },
  {
   "cell_type": "code",
   "execution_count": 332,
   "metadata": {},
   "outputs": [
    {
     "name": "stdout",
     "output_type": "stream",
     "text": [
      "line1\n",
      "\n",
      "line2\n",
      "\n",
      "line3\n",
      "\n",
      " Hello \n",
      "\n",
      "\n",
      "\n",
      " Hello \n",
      "\n"
     ]
    }
   ],
   "source": [
    "# безопасный способ открытия не заморачиваясь с close\n",
    "with open ('text1.txt') as f:\n",
    "    for line in f:\n",
    "        print (line)"
   ]
  },
  {
   "cell_type": "code",
   "execution_count": 333,
   "metadata": {},
   "outputs": [],
   "source": [
    "# копиирвоать один файл в другой\n",
    "with open ('text1.txt') as f, open ('txt_copy.txt', 'w') as w:\n",
    "    for line in f:\n",
    "        w.write(line)"
   ]
  },
  {
   "cell_type": "markdown",
   "metadata": {},
   "source": [
    "## Work with filesystem"
   ]
  },
  {
   "cell_type": "code",
   "execution_count": 2,
   "metadata": {},
   "outputs": [],
   "source": [
    "import os\n",
    "import os.path"
   ]
  },
  {
   "cell_type": "code",
   "execution_count": 9,
   "metadata": {},
   "outputs": [
    {
     "name": "stdout",
     "output_type": "stream",
     "text": [
      "/home/alex/PycharmProjects/testAPI\n"
     ]
    }
   ],
   "source": [
    "# текущая файловая директория\n",
    "print (os.getcwd())"
   ]
  },
  {
   "cell_type": "code",
   "execution_count": 16,
   "metadata": {},
   "outputs": [
    {
     "data": {
      "text/plain": [
       "(False, True)"
      ]
     },
     "execution_count": 16,
     "metadata": {},
     "output_type": "execute_result"
    }
   ],
   "source": [
    "#существует ли данный файл или папка?\n",
    "os.path.exists('exist.txt'),os.path.exists('stepic_python_use.ipynb')"
   ]
  },
  {
   "cell_type": "code",
   "execution_count": 18,
   "metadata": {},
   "outputs": [
    {
     "data": {
      "text/plain": [
       "(True, False)"
      ]
     },
     "execution_count": 18,
     "metadata": {},
     "output_type": "execute_result"
    }
   ],
   "source": [
    "# является файл файлом или директорией\n",
    "os.path.isfile('stepic_python_use.ipynb'), os.path.isdir('stepic_python_use.ipynb')"
   ]
  },
  {
   "cell_type": "code",
   "execution_count": 3,
   "metadata": {},
   "outputs": [
    {
     "data": {
      "text/plain": [
       "'/home/alex/PycharmProjects/testAPI/stepic_python_use.ipynb'"
      ]
     },
     "execution_count": 3,
     "metadata": {},
     "output_type": "execute_result"
    }
   ],
   "source": [
    "# узнать абсолютный путь\n",
    "os.path.abspath('stepic_python_use.ipynb')"
   ]
  },
  {
   "cell_type": "code",
   "execution_count": 4,
   "metadata": {},
   "outputs": [
    {
     "data": {
      "text/plain": [
       "'/home/alex/Загрузки'"
      ]
     },
     "execution_count": 4,
     "metadata": {},
     "output_type": "execute_result"
    }
   ],
   "source": [
    "#  изменить текущую директоию\n",
    "os.chdir('/home/alex/Загрузки/')\n",
    "os.getcwd()"
   ]
  },
  {
   "cell_type": "code",
   "execution_count": 5,
   "metadata": {},
   "outputs": [],
   "source": [
    "answer = []\n",
    "# рекурсивное прохождение по всем папкам и подпапкам и файлам. генератор\n",
    "for current_dir, dirs, files in os.walk('main'):\n",
    "    for i in files:\n",
    "        if i.endswith('.py'):\n",
    "            #print (current_dir)\n",
    "            if current_dir not in answer:\n",
    "                answer += [current_dir]"
   ]
  },
  {
   "cell_type": "markdown",
   "metadata": {},
   "source": [
    "## map function"
   ]
  },
  {
   "cell_type": "code",
   "execution_count": 72,
   "metadata": {},
   "outputs": [
    {
     "name": "stdout",
     "output_type": "stream",
     "text": [
      "[0, 2, 4, 6, 8, 10]\n"
     ]
    }
   ],
   "source": [
    "# создает итератор: к каждоому элементу списка применять функцию\n",
    "def sum_5(a):\n",
    "    return int(a) + 5\n",
    "# iterate to all elements in iterator\n",
    "n = map(sum_5, [i for i in range (5)])\n",
    "\n",
    "print ([i for i in b])"
   ]
  },
  {
   "cell_type": "code",
   "execution_count": 71,
   "metadata": {},
   "outputs": [
    {
     "name": "stdout",
     "output_type": "stream",
     "text": [
      "[5, 6, 7, 8, 9]\n"
     ]
    }
   ],
   "source": [
    "# или из итератора сделать лист\n",
    "n = list(map(sum_5, [i for i in range (5)]))\n",
    "print (n)"
   ]
  },
  {
   "cell_type": "markdown",
   "metadata": {},
   "source": [
    "## filter function"
   ]
  },
  {
   "cell_type": "code",
   "execution_count": 68,
   "metadata": {},
   "outputs": [
    {
     "name": "stdout",
     "output_type": "stream",
     "text": [
      "[0, 2, 4, 6, 8, 10]\n"
     ]
    }
   ],
   "source": [
    "# создает итератор: отфильтровывает по заданной функции заданное значение\n",
    "def even(x):\n",
    "    return x%2 == 0\n",
    "a = [i for i in range (11)]\n",
    "b = filter(even, a)\n",
    "print ([i for i in b])"
   ]
  },
  {
   "cell_type": "code",
   "execution_count": 70,
   "metadata": {},
   "outputs": [
    {
     "name": "stdout",
     "output_type": "stream",
     "text": [
      "[0, 2, 4, 6, 8, 10]\n"
     ]
    }
   ],
   "source": [
    "# или из итератора сделать лист\n",
    "b = list(filter(even, a))\n",
    "print (b)"
   ]
  },
  {
   "cell_type": "markdown",
   "metadata": {},
   "source": [
    "## lambda function"
   ]
  },
  {
   "cell_type": "code",
   "execution_count": 76,
   "metadata": {},
   "outputs": [
    {
     "name": "stdout",
     "output_type": "stream",
     "text": [
      "[0, 2, 4, 6, 8]\n"
     ]
    }
   ],
   "source": [
    "# lambda : аргумент и что нужно вернуть в одно предложение\n",
    "a = filter(lambda x: x%2 == 0, [i for i in range (10)])\n",
    "print (list(a))"
   ]
  },
  {
   "cell_type": "code",
   "execution_count": 104,
   "metadata": {},
   "outputs": [
    {
     "name": "stdout",
     "output_type": "stream",
     "text": [
      "[['putin', 'vladimir'], ['medvedev', 'dmitry'], ['vinogradov', 'aleksander']]\n"
     ]
    }
   ],
   "source": [
    "## лямбда вместо join & sorted из примера ниже\n",
    "names = [['vinogradov', 'aleksander'],['putin','vladimir'], ['medvedev', 'dmitry']]\n",
    "\n",
    "names.sort(key = lambda name: len((' ').join(name)))\n",
    "print(names)"
   ]
  },
  {
   "cell_type": "markdown",
   "metadata": {},
   "source": [
    "## join"
   ]
  },
  {
   "cell_type": "code",
   "execution_count": 81,
   "metadata": {},
   "outputs": [
    {
     "name": "stdout",
     "output_type": "stream",
     "text": [
      "a_b_c\n"
     ]
    }
   ],
   "source": [
    "# метод строкб соединяет строки и разделители\n",
    "my_list = ['a', 'b', 'c']\n",
    "mySeparator = '_'\n",
    "\n",
    "x = mySeparator.join(my_list)\n",
    "\n",
    "print(x)"
   ]
  },
  {
   "cell_type": "code",
   "execution_count": 173,
   "metadata": {},
   "outputs": [
    {
     "data": {
      "text/plain": [
       "'1___2___3'"
      ]
     },
     "execution_count": 173,
     "metadata": {},
     "output_type": "execute_result"
    }
   ],
   "source": [
    "numbers = map(str, [1,2,3])\n",
    "'___'.join(numbers)"
   ]
  },
  {
   "cell_type": "markdown",
   "metadata": {},
   "source": [
    "## join & sorted"
   ]
  },
  {
   "cell_type": "code",
   "execution_count": 106,
   "metadata": {},
   "outputs": [],
   "source": [
    "names = [['vinogradov', 'aleksander'],['putin','vladimir'], ['medvedev', 'dmitry']]"
   ]
  },
  {
   "cell_type": "code",
   "execution_count": 96,
   "metadata": {},
   "outputs": [
    {
     "name": "stdout",
     "output_type": "stream",
     "text": [
      "[['putin', 'vladimir'], ['medvedev', 'dmitry'], ['vinogradov', 'aleksander']]\n"
     ]
    }
   ],
   "source": [
    "# сортируем имена по длинне. ключ это значение после функции\n",
    "def lenght(name):\n",
    "    return len((' ').join(name))\n",
    "\n",
    "names.sort(key = lenght )\n",
    "print (names)"
   ]
  },
  {
   "cell_type": "code",
   "execution_count": 97,
   "metadata": {},
   "outputs": [
    {
     "name": "stdout",
     "output_type": "stream",
     "text": [
      "[14, 15, 21]\n"
     ]
    }
   ],
   "source": [
    "len_name = [lenght(i) for i in names]\n",
    "print (len_name)"
   ]
  },
  {
   "cell_type": "markdown",
   "metadata": {},
   "source": [
    "## operator library"
   ]
  },
  {
   "cell_type": "code",
   "execution_count": 107,
   "metadata": {},
   "outputs": [
    {
     "name": "stdout",
     "output_type": "stream",
     "text": [
      "3\n"
     ]
    }
   ],
   "source": [
    "import operator as op\n",
    "# реализованы основные арифметические опреации как функции\n",
    "\n",
    "\n",
    "print (op.add(1,2)) # сложение"
   ]
  },
  {
   "cell_type": "code",
   "execution_count": 108,
   "metadata": {},
   "outputs": [
    {
     "data": {
      "text/plain": [
       "20"
      ]
     },
     "execution_count": 108,
     "metadata": {},
     "output_type": "execute_result"
    }
   ],
   "source": [
    "op.mul(4,5) # умножение"
   ]
  },
  {
   "cell_type": "code",
   "execution_count": 110,
   "metadata": {},
   "outputs": [
    {
     "data": {
      "text/plain": [
       "False"
      ]
     },
     "execution_count": 110,
     "metadata": {},
     "output_type": "execute_result"
    }
   ],
   "source": [
    "op.contains([1,2,3],5) # входит ли одно в другое"
   ]
  },
  {
   "cell_type": "code",
   "execution_count": 112,
   "metadata": {},
   "outputs": [
    {
     "name": "stdout",
     "output_type": "stream",
     "text": [
      "5\n"
     ]
    }
   ],
   "source": [
    "# дает элемент по индексу списка\n",
    "x = [1,4,5,6,7,67,55,12]\n",
    "f = op.itemgetter(2)\n",
    "print (f(x))"
   ]
  },
  {
   "cell_type": "code",
   "execution_count": 113,
   "metadata": {},
   "outputs": [
    {
     "name": "stdout",
     "output_type": "stream",
     "text": [
      "[['vinogradov', 'aleksander'], ['medvedev', 'dmitry'], ['putin', 'vladimir']]\n"
     ]
    }
   ],
   "source": [
    "# атрибут элемента. сортирует пример по фамитиям\n",
    "names = [['vinogradov', 'aleksander'],['putin','vladimir'], ['medvedev', 'dmitry']]\n",
    "names.sort(key = op.itemgetter(-1))\n",
    "print (names)"
   ]
  },
  {
   "cell_type": "markdown",
   "metadata": {},
   "source": [
    "## functools library"
   ]
  },
  {
   "cell_type": "code",
   "execution_count": 114,
   "metadata": {},
   "outputs": [],
   "source": [
    "from functools import partial\n",
    "## позволяет применять функцию с уже предзаданными аргументами"
   ]
  },
  {
   "cell_type": "code",
   "execution_count": 116,
   "metadata": {},
   "outputs": [
    {
     "name": "stdout",
     "output_type": "stream",
     "text": [
      "5\n"
     ]
    }
   ],
   "source": [
    "# пример целочисденного числа в двоичной системе\n",
    "a = int('0101', base = 2)\n",
    "print (a)"
   ]
  },
  {
   "cell_type": "code",
   "execution_count": 122,
   "metadata": {},
   "outputs": [
    {
     "name": "stdout",
     "output_type": "stream",
     "text": [
      "14\n"
     ]
    }
   ],
   "source": [
    "int_2 = partial(int,base = 2)\n",
    "b = int_2('1110')\n",
    "print(b)"
   ]
  },
  {
   "cell_type": "code",
   "execution_count": 126,
   "metadata": {},
   "outputs": [
    {
     "name": "stdout",
     "output_type": "stream",
     "text": [
      "[['vinogradov', 'aleksander'], ['medvedev', 'dmitry'], ['putin', 'vladimir']]\n"
     ]
    }
   ],
   "source": [
    "names = [['vinogradov', 'aleksander'],['putin','vladimir'], ['medvedev', 'dmitry']]\n",
    "sort_by_last = partial(list.sort, key = op.itemgetter(-1))\n",
    "sort_by_last(names)\n",
    "print(names)"
   ]
  },
  {
   "cell_type": "code",
   "execution_count": 127,
   "metadata": {},
   "outputs": [
    {
     "name": "stdout",
     "output_type": "stream",
     "text": [
      "['asa', 'bbb', 'asc', 'asd']\n"
     ]
    }
   ],
   "source": [
    "d = ['asd','asa','asc','bbb']\n",
    "sort_by_last(d)\n",
    "print(d)"
   ]
  },
  {
   "cell_type": "code",
   "execution_count": null,
   "metadata": {},
   "outputs": [],
   "source": []
  },
  {
   "cell_type": "code",
   "execution_count": null,
   "metadata": {},
   "outputs": [],
   "source": [
    "def f(x):\n",
    "      def f1(y):\n",
    "        return y+x\n",
    "      return f1"
   ]
  },
  {
   "cell_type": "code",
   "execution_count": 134,
   "metadata": {},
   "outputs": [
    {
     "name": "stdout",
     "output_type": "stream",
     "text": [
      "True\n"
     ]
    }
   ],
   "source": [
    "\n",
    "mod_3_1 = mod_checker(3, 1)\n",
    "print(mod_3_1(4)) # True"
   ]
  },
  {
   "cell_type": "code",
   "execution_count": 131,
   "metadata": {},
   "outputs": [],
   "source": [
    "def mod_checker(x, mod = 0):\n",
    "    return lambda y: y%x == mod"
   ]
  },
  {
   "cell_type": "code",
   "execution_count": null,
   "metadata": {},
   "outputs": [],
   "source": [
    "lambda x: if x%2 == 0"
   ]
  },
  {
   "cell_type": "code",
   "execution_count": 133,
   "metadata": {},
   "outputs": [
    {
     "name": "stdout",
     "output_type": "stream",
     "text": [
      "False\n"
     ]
    }
   ],
   "source": [
    "mod_3 = mod_checker(3)\n",
    "print(mod_3(4))"
   ]
  },
  {
   "cell_type": "markdown",
   "metadata": {},
   "source": [
    "## Вывод документации"
   ]
  },
  {
   "cell_type": "code",
   "execution_count": 136,
   "metadata": {},
   "outputs": [],
   "source": [
    "import pandas"
   ]
  },
  {
   "cell_type": "code",
   "execution_count": 138,
   "metadata": {},
   "outputs": [
    {
     "name": "stdout",
     "output_type": "stream",
     "text": [
      "\n",
      "pandas - a powerful data analysis and manipulation library for Python\n",
      "=====================================================================\n",
      "\n",
      "**pandas** is a Python package providing fast, flexible, and expressive data\n",
      "structures designed to make working with \"relational\" or \"labeled\" data both\n",
      "easy and intuitive. It aims to be the fundamental high-level building block for\n",
      "doing practical, **real world** data analysis in Python. Additionally, it has\n",
      "the broader goal of becoming **the most powerful and flexible open source data\n",
      "analysis / manipulation tool available in any language**. It is already well on\n",
      "its way toward this goal.\n",
      "\n",
      "Main Features\n",
      "-------------\n",
      "Here are just a few of the things that pandas does well:\n",
      "\n",
      "  - Easy handling of missing data in floating point as well as non-floating\n",
      "    point data.\n",
      "  - Size mutability: columns can be inserted and deleted from DataFrame and\n",
      "    higher dimensional objects\n",
      "  - Automatic and explicit data alignment: objects can be explicitly aligned\n",
      "    to a set of labels, or the user can simply ignore the labels and let\n",
      "    `Series`, `DataFrame`, etc. automatically align the data for you in\n",
      "    computations.\n",
      "  - Powerful, flexible group by functionality to perform split-apply-combine\n",
      "    operations on data sets, for both aggregating and transforming data.\n",
      "  - Make it easy to convert ragged, differently-indexed data in other Python\n",
      "    and NumPy data structures into DataFrame objects.\n",
      "  - Intelligent label-based slicing, fancy indexing, and subsetting of large\n",
      "    data sets.\n",
      "  - Intuitive merging and joining data sets.\n",
      "  - Flexible reshaping and pivoting of data sets.\n",
      "  - Hierarchical labeling of axes (possible to have multiple labels per tick).\n",
      "  - Robust IO tools for loading data from flat files (CSV and delimited),\n",
      "    Excel files, databases, and saving/loading data from the ultrafast HDF5\n",
      "    format.\n",
      "  - Time series-specific functionality: date range generation and frequency\n",
      "    conversion, moving window statistics, moving window linear regressions,\n",
      "    date shifting and lagging, etc.\n",
      "\n"
     ]
    }
   ],
   "source": [
    "# выводить документацию можно как по библиотеке, так и по методу библиотеки\n",
    "print(pandas.__doc__)"
   ]
  },
  {
   "cell_type": "markdown",
   "metadata": {},
   "source": [
    "## Продвинутая работа со строками"
   ]
  },
  {
   "cell_type": "code",
   "execution_count": 139,
   "metadata": {},
   "outputs": [
    {
     "data": {
      "text/plain": [
       "True"
      ]
     },
     "execution_count": 139,
     "metadata": {},
     "output_type": "execute_result"
    }
   ],
   "source": [
    "# входит ли одна строка в другую?\n",
    "'abc' in 'abcba'"
   ]
  },
  {
   "cell_type": "code",
   "execution_count": 153,
   "metadata": {},
   "outputs": [
    {
     "data": {
      "text/plain": [
       "(2, 7)"
      ]
     },
     "execution_count": 153,
     "metadata": {},
     "output_type": "execute_result"
    }
   ],
   "source": [
    "# поиск позиции строки, начиная с которой она входит в другую слева и справа\n",
    "'bbabcdaabc'.find('abc'),'bbabcdaabc'.rfind('abc')"
   ]
  },
  {
   "cell_type": "code",
   "execution_count": 144,
   "metadata": {},
   "outputs": [
    {
     "data": {
      "text/plain": [
       "2"
      ]
     },
     "execution_count": 144,
     "metadata": {},
     "output_type": "execute_result"
    }
   ],
   "source": [
    "# аналогично. оба метода можно запускать со слайсов с аргументами старт стоп степ\n",
    "'bbabcda'.index('abc')"
   ]
  },
  {
   "cell_type": "code",
   "execution_count": 148,
   "metadata": {},
   "outputs": [
    {
     "name": "stdout",
     "output_type": "stream",
     "text": [
      "True\n"
     ]
    }
   ],
   "source": [
    "# startswith & endswith может принимать не только одно значение но и кортеж\n",
    "a = 'when i was are young boy my father took me in to the city to see a marching band'\n",
    "print(a.startswith(('i', 'when', 'while')))"
   ]
  },
  {
   "cell_type": "code",
   "execution_count": 150,
   "metadata": {},
   "outputs": [
    {
     "name": "stdout",
     "output_type": "stream",
     "text": [
      "5\n"
     ]
    }
   ],
   "source": [
    "# число непересекающихся вхождений одной строки в другую\n",
    "a = 'abaabababaaba'\n",
    "print(a.count('ab'))"
   ]
  },
  {
   "cell_type": "code",
   "execution_count": 156,
   "metadata": {},
   "outputs": [
    {
     "data": {
      "text/plain": [
       "('adfeaaddr', 'ADFEAADDR')"
      ]
     },
     "execution_count": 156,
     "metadata": {},
     "output_type": "execute_result"
    }
   ],
   "source": [
    "# смена регистров\n",
    "a = 'aDfEaaDDr'\n",
    "a.lower(), a.upper()"
   ]
  },
  {
   "cell_type": "code",
   "execution_count": 158,
   "metadata": {},
   "outputs": [
    {
     "data": {
      "text/plain": [
       "('1, 2, 3, 4', '1, 2, 3,4')"
      ]
     },
     "execution_count": 158,
     "metadata": {},
     "output_type": "execute_result"
    }
   ],
   "source": [
    "# замена одного символа на другой\n",
    "# можно добавить аргумент и изменить число замен\n",
    "a = '1,2,3,4'\n",
    "a.replace(',', ', '), a.replace(',', ', ', 2)"
   ]
  },
  {
   "cell_type": "code",
   "execution_count": 159,
   "metadata": {},
   "outputs": [
    {
     "data": {
      "text/plain": [
       "['1', '2', '3 4 5']"
      ]
     },
     "execution_count": 159,
     "metadata": {},
     "output_type": "execute_result"
    }
   ],
   "source": [
    "# разделять можно на заданное количество\n",
    "a = '1 2 3 4 5'\n",
    "a.split(' ', 2)"
   ]
  },
  {
   "cell_type": "code",
   "execution_count": 163,
   "metadata": {},
   "outputs": [
    {
     "data": {
      "text/plain": [
       "['1', '2', '6', '9']"
      ]
     },
     "execution_count": 163,
     "metadata": {},
     "output_type": "execute_result"
    }
   ],
   "source": [
    "# по умолчанию сплит удаляет пробелы и табуляции и разделяет по пробелам\n",
    "a = ' 1    2 \\t \\t       6 9'\n",
    "a.split()"
   ]
  },
  {
   "cell_type": "code",
   "execution_count": 165,
   "metadata": {},
   "outputs": [
    {
     "data": {
      "text/plain": [
       "('asasasa', 'asasasa   ', '   asasasa')"
      ]
     },
     "execution_count": 165,
     "metadata": {},
     "output_type": "execute_result"
    }
   ],
   "source": [
    "# убирает ведущие пробельные символы слева. справа и с обеих концов\n",
    "a = \"   asasasa   \"\n",
    "a.strip(), a.lstrip(), a.rstrip()"
   ]
  },
  {
   "cell_type": "code",
   "execution_count": 166,
   "metadata": {},
   "outputs": [
    {
     "data": {
      "text/plain": [
       "('   asasasa   ', '   asasasa   *', '*   asasasa   ')"
      ]
     },
     "execution_count": 166,
     "metadata": {},
     "output_type": "execute_result"
    }
   ],
   "source": [
    "# убирает заданные символы слева. справа и с обеих концов\n",
    "a = \"*   asasasa   *\"\n",
    "a.strip('*'), a.lstrip('*'), a.rstrip('*')"
   ]
  },
  {
   "cell_type": "markdown",
   "metadata": {},
   "source": [
    "### двойное условие цикла WHILE!\n",
    "оно не и а или.\n",
    "while i == 0 or j == 10:"
   ]
  },
  {
   "cell_type": "markdown",
   "metadata": {},
   "source": [
    "## Шаблоны и форматрирование"
   ]
  },
  {
   "cell_type": "code",
   "execution_count": 2,
   "metadata": {},
   "outputs": [],
   "source": [
    "template = '{} is the capital of {}'"
   ]
  },
  {
   "cell_type": "code",
   "execution_count": 3,
   "metadata": {},
   "outputs": [
    {
     "data": {
      "text/plain": [
       "'London is the capital of Great Britain'"
      ]
     },
     "execution_count": 3,
     "metadata": {},
     "output_type": "execute_result"
    }
   ],
   "source": [
    "template.format('London', 'Great Britain')"
   ]
  },
  {
   "cell_type": "code",
   "execution_count": 4,
   "metadata": {},
   "outputs": [],
   "source": [
    "template = '{city} is a capitel of {country}'"
   ]
  },
  {
   "cell_type": "code",
   "execution_count": 5,
   "metadata": {},
   "outputs": [
    {
     "data": {
      "text/plain": [
       "'London is a capitel of Great Britain'"
      ]
     },
     "execution_count": 5,
     "metadata": {},
     "output_type": "execute_result"
    }
   ],
   "source": [
    "template.format(country = 'Great Britain', city = 'London')"
   ]
  },
  {
   "cell_type": "markdown",
   "metadata": {},
   "source": [
    "## Регулярные выражения: поиск шаблонов"
   ]
  },
  {
   "cell_type": "code",
   "execution_count": 13,
   "metadata": {},
   "outputs": [
    {
     "name": "stdout",
     "output_type": "stream",
     "text": [
      "hellow\n",
      "world\n"
     ]
    }
   ],
   "source": [
    "## casual string\n",
    "print('hellow\\nworld')"
   ]
  },
  {
   "cell_type": "code",
   "execution_count": 14,
   "metadata": {},
   "outputs": [
    {
     "name": "stdout",
     "output_type": "stream",
     "text": [
      "hello\\nworld\n"
     ]
    }
   ],
   "source": [
    "## raw string\n",
    "print(r'hello\\nworld')"
   ]
  },
  {
   "cell_type": "code",
   "execution_count": 16,
   "metadata": {},
   "outputs": [
    {
     "name": "stdout",
     "output_type": "stream",
     "text": [
      "<function search at 0x7f9a2d7318c8> <function match at 0x7f9a2d6fc1e0> <function findall at 0x7f9a2d731ae8> <function sub at 0x7f9a2d731950>\n"
     ]
    }
   ],
   "source": [
    "import re\n",
    "# функции - поиск шаблонов внутри текста\n",
    "print (re.search, re.match, re.findall, re.sub)"
   ]
  },
  {
   "cell_type": "code",
   "execution_count": 42,
   "metadata": {},
   "outputs": [
    {
     "name": "stdout",
     "output_type": "stream",
     "text": [
      "<_sre.SRE_Match object; span=(0, 3), match='abc'>\n"
     ]
    }
   ],
   "source": [
    "# match с какой по какую позицию шаблон соответствует строке - В НАЧАЛЕ СТРОК\n",
    "template = 'abc'\n",
    "string = 'abc'\n",
    "match_object = re.match(template,string)\n",
    "print (match_object)"
   ]
  },
  {
   "cell_type": "code",
   "execution_count": 32,
   "metadata": {},
   "outputs": [
    {
     "name": "stdout",
     "output_type": "stream",
     "text": [
      "<_sre.SRE_Match object; span=(6, 9), match='abc'>\n"
     ]
    }
   ],
   "source": [
    "# search это вхождение шаблона\n",
    "pattern = 'abc'\n",
    "string = 'dsfsdfabc'\n",
    "search_object = re.search(pattern,string)\n",
    "print (search_object)"
   ]
  },
  {
   "cell_type": "code",
   "execution_count": 34,
   "metadata": {},
   "outputs": [
    {
     "name": "stdout",
     "output_type": "stream",
     "text": [
      "<_sre.SRE_Match object; span=(1, 4), match='adc'>\n"
     ]
    }
   ],
   "source": [
    "# в паттерне в [] можно указать множество символов, которые подходят под шаблон\n",
    "pattern = 'a[bde]c'\n",
    "string = 'aadc'\n",
    "search_object = re.search(pattern,string)\n",
    "print (search_object)"
   ]
  },
  {
   "cell_type": "code",
   "execution_count": 35,
   "metadata": {},
   "outputs": [
    {
     "name": "stdout",
     "output_type": "stream",
     "text": [
      "['abc', 'acc', 'aac']\n"
     ]
    }
   ],
   "source": [
    "# findall  -  все вхождения шаблона внутри строки\n",
    "string = 'abc,acc,aac'\n",
    "pattern = 'a[bca]c'\n",
    "find_obj = re.findall(pattern, string)\n",
    "print (find_obj)"
   ]
  },
  {
   "cell_type": "code",
   "execution_count": 45,
   "metadata": {},
   "outputs": [
    {
     "name": "stdout",
     "output_type": "stream",
     "text": [
      "['abc', 'acc', 'aac', 'adc']\n"
     ]
    }
   ],
   "source": [
    "string = 'abc,acc,aac,adc'\n",
    "# можно указывать через диапазон\n",
    "pattern = 'a[a-d]c'\n",
    "find_obj = re.findall(pattern, string)\n",
    "print (find_obj)"
   ]
  },
  {
   "cell_type": "code",
   "execution_count": 38,
   "metadata": {},
   "outputs": [
    {
     "name": "stdout",
     "output_type": "stream",
     "text": [
      "abc,abc,abc\n"
     ]
    }
   ],
   "source": [
    "# заменить все вхождения шаблона в строке (на случай, если там опечатки)\n",
    "sub_obj = re.sub(pattern, 'abc', string)\n",
    "print (sub_obj)"
   ]
  },
  {
   "cell_type": "markdown",
   "metadata": {},
   "source": [
    "## Регулярные выражения: метасимволы"
   ]
  },
  {
   "cell_type": "code",
   "execution_count": 43,
   "metadata": {},
   "outputs": [
    {
     "name": "stdout",
     "output_type": "stream",
     "text": [
      "<_sre.SRE_Match object; span=(13, 20), match='english'>\n"
     ]
    }
   ],
   "source": [
    "pattern = r'english?'\n",
    "string = r'do you speak english?'\n",
    "search_obj = re.search(pattern,string)\n",
    "print (search_obj)\n",
    "# так не работает - знака вопроса нет в ответе"
   ]
  },
  {
   "cell_type": "code",
   "execution_count": 44,
   "metadata": {},
   "outputs": [
    {
     "name": "stdout",
     "output_type": "stream",
     "text": [
      "<_sre.SRE_Match object; span=(13, 21), match='english?'>\n"
     ]
    }
   ],
   "source": [
    "# нужно экранировать метасимвол знкаом \"\\\"\n",
    "pattern = r'english\\?'\n",
    "string = r'do you speak english?'\n",
    "search_obj = re.search(pattern,string)\n",
    "print (search_obj)"
   ]
  },
  {
   "cell_type": "code",
   "execution_count": null,
   "metadata": {},
   "outputs": [],
   "source": [
    "# [] можно указать множество подходящих символов\n",
    "# . ^ $ ' {} () [] +"
   ]
  },
  {
   "cell_type": "code",
   "execution_count": null,
   "metadata": {},
   "outputs": [],
   "source": [
    "# \\d == [0,9]\n",
    "# \\D == [^0,9]\n",
    "# \\s == пробельные символы и даже перенос каретки и вертикальная табуляция [ , \\t,\\n, \\f,\\r,\\v]\n",
    "# \\S -- все, кроме пробельных символов\n",
    "# \\w == [a-zA-Z0-9_]\n",
    "# \\W == [^a-zA-Z0-9_]"
   ]
  },
  {
   "cell_type": "code",
   "execution_count": null,
   "metadata": {},
   "outputs": [],
   "source": [
    "# можно скомбинировать и добавить \".\"\n",
    "pattern = 'a[\\w.]c'"
   ]
  },
  {
   "cell_type": "code",
   "execution_count": 47,
   "metadata": {},
   "outputs": [
    {
     "name": "stdout",
     "output_type": "stream",
     "text": [
      "['abc', 'acc', 'aac', 'a&c']\n"
     ]
    }
   ],
   "source": [
    "#точка - любой символ кроме переноса строки подходит под точку\n",
    "string = 'abc,acc,aac,a&c'\n",
    "pattern = 'a.c'\n",
    "find_obj = re.findall(pattern, string)\n",
    "print (find_obj)"
   ]
  },
  {
   "cell_type": "code",
   "execution_count": null,
   "metadata": {},
   "outputs": [],
   "source": [
    "#весь алфавит\n",
    "pattern = 'a[b-zB-Z]c'"
   ]
  },
  {
   "cell_type": "code",
   "execution_count": null,
   "metadata": {},
   "outputs": [],
   "source": [
    "#не подходит ничего!!!!\n",
    "pattern = 'a[^b-zB-Z]c'"
   ]
  },
  {
   "cell_type": "code",
   "execution_count": 48,
   "metadata": {},
   "outputs": [
    {
     "name": "stdout",
     "output_type": "stream",
     "text": [
      "['abc', 'ac', 'abbc', 'abbbbbc']\n"
     ]
    }
   ],
   "source": [
    "#  * \"звездочка\" - число повторов символа от 0 \n",
    "string = 'abc,ac,abbc,abbbbbc'\n",
    "pattern = 'ab*c'\n",
    "find_obj = re.findall(pattern, string)\n",
    "print (find_obj)"
   ]
  },
  {
   "cell_type": "code",
   "execution_count": 50,
   "metadata": {},
   "outputs": [
    {
     "name": "stdout",
     "output_type": "stream",
     "text": [
      "['abc', 'abbc', 'abbbbbc']\n"
     ]
    }
   ],
   "source": [
    "#  + \"плюс\" - число повторов символа от 1\n",
    "string = 'abc,ac,abbc,abbbbbc'\n",
    "pattern = 'ab+c'\n",
    "find_obj = re.findall(pattern, string)\n",
    "print (find_obj)"
   ]
  },
  {
   "cell_type": "code",
   "execution_count": 51,
   "metadata": {},
   "outputs": [
    {
     "name": "stdout",
     "output_type": "stream",
     "text": [
      "['abc', 'ac']\n"
     ]
    }
   ],
   "source": [
    "#  ? \"вопрос\" - число повторов символа от 0 до 1\n",
    "string = 'abc,ac,abbc,abbbbbc'\n",
    "pattern = 'ab?c'\n",
    "find_obj = re.findall(pattern, string)\n",
    "print (find_obj)"
   ]
  },
  {
   "cell_type": "code",
   "execution_count": 55,
   "metadata": {},
   "outputs": [
    {
     "name": "stdout",
     "output_type": "stream",
     "text": [
      "['abbc']\n"
     ]
    }
   ],
   "source": [
    "#  {} \"фигурные скобки\" - задается число вхождений символа\n",
    "string = 'abc,ac,abbc,abbbbbc'\n",
    "pattern = 'ab{2}c'\n",
    "find_obj = re.findall(pattern, string)\n",
    "print (find_obj)"
   ]
  },
  {
   "cell_type": "code",
   "execution_count": 59,
   "metadata": {},
   "outputs": [
    {
     "name": "stdout",
     "output_type": "stream",
     "text": [
      "['abbc', 'abbbbc']\n"
     ]
    }
   ],
   "source": [
    "# диапазон через фигурные скобки\n",
    "string = 'abc,ac,abbc,abbbbc'\n",
    "pattern = 'ab{2,4}c'\n",
    "find_obj = re.findall(pattern, string)\n",
    "print (find_obj)"
   ]
  },
  {
   "cell_type": "code",
   "execution_count": 66,
   "metadata": {},
   "outputs": [
    {
     "name": "stdout",
     "output_type": "stream",
     "text": [
      "<_sre.SRE_Match object; span=(0, 6), match='abaaba'> ['abaaba']\n"
     ]
    }
   ],
   "source": [
    "#жадные префиксы возвращают паттерн максимальной длинны\n",
    "string = 'abaaba'\n",
    "pattern = r'a[ab]+a'\n",
    "print (re.match(pattern,string), re.findall(pattern,string))"
   ]
  },
  {
   "cell_type": "code",
   "execution_count": 67,
   "metadata": {},
   "outputs": [
    {
     "name": "stdout",
     "output_type": "stream",
     "text": [
      "<_sre.SRE_Match object; span=(0, 3), match='aba'> ['aba', 'aba']\n"
     ]
    }
   ],
   "source": [
    "# искать нежадным способом\n",
    "string = 'abaaba'\n",
    "pattern = r'a[ab]+?a'\n",
    "print (re.match(pattern,string), re.findall(pattern,string))"
   ]
  },
  {
   "cell_type": "markdown",
   "metadata": {},
   "source": [
    "## Регулярные выражения: группировки символов"
   ]
  },
  {
   "cell_type": "code",
   "execution_count": 71,
   "metadata": {},
   "outputs": [
    {
     "name": "stdout",
     "output_type": "stream",
     "text": [
      "<_sre.SRE_Match object; span=(0, 8), match='testtest'>\n"
     ]
    }
   ],
   "source": [
    "#\"круглые скобки\" - группируют\n",
    "pattern = r'(test)*'\n",
    "string = 'testtest'\n",
    "print (re.match(pattern,string))"
   ]
  },
  {
   "cell_type": "code",
   "execution_count": 73,
   "metadata": {},
   "outputs": [
    {
     "name": "stdout",
     "output_type": "stream",
     "text": [
      "<_sre.SRE_Match object; span=(0, 8), match='testtext'>\n"
     ]
    }
   ],
   "source": [
    "# \"вертикальная палочка\" - или\n",
    "pattern = r'(test|text)*'\n",
    "string = 'testtext'\n",
    "print (re.match(pattern,string))"
   ]
  },
  {
   "cell_type": "code",
   "execution_count": 75,
   "metadata": {},
   "outputs": [
    {
     "name": "stdout",
     "output_type": "stream",
     "text": [
      "('abc', 'abc', None)\n"
     ]
    }
   ],
   "source": [
    "# группы выводятся в порядке групп в груглых скобках : 1 все выражение, 2 первое абс, второе текс тест\n",
    "pattern = r\"((abc)|(test|text)*)\"\n",
    "string = 'abc'\n",
    "match_obj = (re.match(pattern,string))\n",
    "print (match_obj.groups())"
   ]
  },
  {
   "cell_type": "code",
   "execution_count": 80,
   "metadata": {},
   "outputs": [
    {
     "name": "stdout",
     "output_type": "stream",
     "text": [
      "<_sre.SRE_Match object; span=(0, 7), match='one-one'>\n"
     ]
    }
   ],
   "source": [
    "# любой набор из символов, \\1 чтобы встречался еще раз - первая группа\n",
    "pattern = r'(\\w+)-\\1'\n",
    "string = 'one-one'\n",
    "match = re.match(pattern, string)\n",
    "print (match)"
   ]
  },
  {
   "cell_type": "code",
   "execution_count": 81,
   "metadata": {},
   "outputs": [
    {
     "name": "stdout",
     "output_type": "stream",
     "text": [
      "None\n"
     ]
    }
   ],
   "source": [
    "# а тут не совпадает\n",
    "pattern = r'(\\w+)-\\1'\n",
    "string = 'one-two'\n",
    "match = re.match(pattern, string)\n",
    "print (match)"
   ]
  },
  {
   "cell_type": "code",
   "execution_count": 82,
   "metadata": {},
   "outputs": [
    {
     "name": "stdout",
     "output_type": "stream",
     "text": [
      "test chow\n"
     ]
    }
   ],
   "source": [
    "# оставить одно слово из пары\n",
    "pattern = r'(\\w+)-\\1'\n",
    "string = 'test-test chow-chow'\n",
    "sub = re.sub(pattern,r'\\1', string)\n",
    "print (sub)"
   ]
  },
  {
   "cell_type": "code",
   "execution_count": 84,
   "metadata": {},
   "outputs": [
    {
     "name": "stdout",
     "output_type": "stream",
     "text": [
      "['test', 'chow']\n"
     ]
    }
   ],
   "source": [
    "pattern = r'(\\w+)-\\1'\n",
    "string = 'test-test chow-chow'\n",
    "find = re.findall(pattern, string)\n",
    "print (find)"
   ]
  },
  {
   "cell_type": "code",
   "execution_count": 76,
   "metadata": {},
   "outputs": [
    {
     "name": "stdout",
     "output_type": "stream",
     "text": [
      "[('test-test', 'test'), ('chow-chow', 'chow')]\n"
     ]
    }
   ],
   "source": [
    "pattern = r'((\\w+)-\\2)'\n",
    "string = 'test-test chow-chow'\n",
    "find = re.findall(pattern, string)\n",
    "print (find)"
   ]
  },
  {
   "cell_type": "markdown",
   "metadata": {},
   "source": [
    "## Регулярные выражения: флаги"
   ]
  },
  {
   "cell_type": "code",
   "execution_count": 88,
   "metadata": {},
   "outputs": [
    {
     "name": "stdout",
     "output_type": "stream",
     "text": [
      "<_sre.SRE_Match object; span=(0, 4), match='TEXT'>\n"
     ]
    }
   ],
   "source": [
    "print (re.match(r'text', 'TEXT', re.IGNORECASE))"
   ]
  },
  {
   "cell_type": "code",
   "execution_count": 89,
   "metadata": {},
   "outputs": [
    {
     "name": "stdout",
     "output_type": "stream",
     "text": [
      "MAX_REPEAT 0 MAXREPEAT\n",
      "  SUBPATTERN 1 0 0\n",
      "    LITERAL 116\n",
      "    LITERAL 101\n",
      "LITERAL 120\n",
      "LITERAL 116\n",
      "<_sre.SRE_Match object; span=(0, 4), match='TEXT'>\n"
     ]
    }
   ],
   "source": [
    "print (re.match(r'(te)*xt', 'TEXT', re.IGNORECASE | re.DEBUG))"
   ]
  },
  {
   "cell_type": "code",
   "execution_count": null,
   "metadata": {},
   "outputs": [],
   "source": [
    "# \\b - границы слова"
   ]
  },
  {
   "cell_type": "code",
   "execution_count": 57,
   "metadata": {},
   "outputs": [
    {
     "name": "stdout",
     "output_type": "stream",
     "text": [
      "['Aaaaaaaaaaaaaaa']\n",
      "There’ll be no more \"argh\"\n",
      "['AaAaAaA', 'AaAaAaA']\n",
      "argh AaAaAaA\n"
     ]
    }
   ],
   "source": [
    "import re\n",
    "first = 'There’ll be no more \"Aaaaaaaaaaaaaaa\"'\n",
    "second = 'AaAaAaA AaAaAaA'\n",
    "\n",
    "pattern = r'\\b[aA]+\\b'\n",
    "all_string = [first,second]\n",
    "for element in all_string:\n",
    "    print (re.findall(pattern, element ))\n",
    "    print (re.sub(pattern, \"argh\", element, count=1, flags=re.IGNORECASE))"
   ]
  },
  {
   "cell_type": "markdown",
   "metadata": {},
   "source": [
    "## Requests"
   ]
  },
  {
   "cell_type": "code",
   "execution_count": 75,
   "metadata": {},
   "outputs": [],
   "source": [
    "import requests"
   ]
  },
  {
   "cell_type": "code",
   "execution_count": 76,
   "metadata": {},
   "outputs": [],
   "source": [
    "# запрпос к странице, возвращает отклик - объект\n",
    "res = requests.get('https://docs.python.org/3/')"
   ]
  },
  {
   "cell_type": "code",
   "execution_count": 77,
   "metadata": {},
   "outputs": [
    {
     "data": {
      "text/plain": [
       "200"
      ]
     },
     "execution_count": 77,
     "metadata": {},
     "output_type": "execute_result"
    }
   ],
   "source": [
    "# отклик от страницы\n",
    "res.status_code"
   ]
  },
  {
   "cell_type": "code",
   "execution_count": 82,
   "metadata": {},
   "outputs": [
    {
     "data": {
      "text/plain": [
       "'text/html'"
      ]
     },
     "execution_count": 82,
     "metadata": {},
     "output_type": "execute_result"
    }
   ],
   "source": [
    "res.headers['Content-Type']"
   ]
  },
  {
   "cell_type": "raw",
   "metadata": {},
   "source": [
    "# все заголовки\n",
    "res.headers"
   ]
  },
  {
   "cell_type": "raw",
   "metadata": {},
   "source": [
    "#тело ресурса -целая страница \n",
    "res.content"
   ]
  },
  {
   "cell_type": "raw",
   "metadata": {},
   "source": [
    "# только текст без рисунков\n",
    "res.text"
   ]
  },
  {
   "cell_type": "raw",
   "metadata": {},
   "source": [
    "# так же можно для картинки \n",
    "res = requests.get('https://docs.python.org/3/_static/py.png')\n",
    "# это бинарное предсавление - его можно записитьа в файл и скопировать картинку себе\n",
    "res.content"
   ]
  },
  {
   "cell_type": "code",
   "execution_count": 1,
   "metadata": {},
   "outputs": [],
   "source": [
    "# пример запроса в поисковике\n",
    "# htpps:/www.ya.ru/search/?text=Python\n",
    "import requests\n",
    "res = requests.get('https://www.ya.ru/', params={'text':'Stepic'})"
   ]
  },
  {
   "cell_type": "code",
   "execution_count": 2,
   "metadata": {},
   "outputs": [
    {
     "data": {
      "text/plain": [
       "'https://ya.ru/?text=Stepic'"
      ]
     },
     "execution_count": 2,
     "metadata": {},
     "output_type": "execute_result"
    }
   ],
   "source": [
    "res.url"
   ]
  },
  {
   "cell_type": "code",
   "execution_count": null,
   "metadata": {},
   "outputs": [],
   "source": []
  }
 ],
 "metadata": {
  "kernelspec": {
   "display_name": "Python 3",
   "language": "python",
   "name": "python3"
  },
  "language_info": {
   "codemirror_mode": {
    "name": "ipython",
    "version": 3
   },
   "file_extension": ".py",
   "mimetype": "text/x-python",
   "name": "python",
   "nbconvert_exporter": "python",
   "pygments_lexer": "ipython3",
   "version": "3.6.8"
  }
 },
 "nbformat": 4,
 "nbformat_minor": 2
}
