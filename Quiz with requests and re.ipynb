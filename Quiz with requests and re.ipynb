{
 "cells": [
  {
   "cell_type": "code",
   "execution_count": 1,
   "metadata": {},
   "outputs": [],
   "source": [
    "# \\d == [0,9]\n",
    "# \\D == [^0,9]\n",
    "# \\s == пробельные символы и даже перенос каретки и вертикальная табуляция [ , \\t,\\n, \\f,\\r,\\v]\n",
    "# \\S -- все, кроме пробельных символов\n",
    "# [^d] - любой символ кроме d\n",
    "# \\w == [a-zA-Z0-9_]\n",
    "# \\W == [^a-zA-Z0-9_]\n",
    "\n",
    "# [] можно указать множество подходящих символов\n",
    "# . ^ $ ' {} () [] +\n",
    "\n",
    "# нужно экранировать метасимвол знкаом \"\\\"\n",
    "\n",
    "# \\b - границы слова вначале и в конце"
   ]
  },
  {
   "cell_type": "code",
   "execution_count": 7,
   "metadata": {},
   "outputs": [],
   "source": [
    "import string"
   ]
  },
  {
   "cell_type": "code",
   "execution_count": 8,
   "metadata": {},
   "outputs": [
    {
     "name": "stdout",
     "output_type": "stream",
     "text": [
      "abcdefghijklmnopqrstuvwxyzABCDEFGHIJKLMNOPQRSTUVWXYZ\n"
     ]
    }
   ],
   "source": [
    "a = string.ascii_letters\n",
    "print (a)"
   ]
  },
  {
   "cell_type": "code",
   "execution_count": 9,
   "metadata": {},
   "outputs": [
    {
     "name": "stdout",
     "output_type": "stream",
     "text": [
      "0123456789\n"
     ]
    }
   ],
   "source": [
    "print(string.digits)"
   ]
  },
  {
   "cell_type": "markdown",
   "metadata": {},
   "source": [
    "# test one"
   ]
  },
  {
   "cell_type": "code",
   "execution_count": 2,
   "metadata": {},
   "outputs": [
    {
     "name": "stdout",
     "output_type": "stream",
     "text": [
      "href=\"http://stepic.org/courses\">\n",
      "href=\"ftp://www.mya.ru\">\n",
      "href='https://stepic.org'>\n",
      "href='http://neerc.ifmo.ru:1345'>\n",
      "href='http://sasd.ifmo.ru:1345'>\n",
      "href='http://neerc.ifmo.ru:1345'>\n",
      "href=\"../some_path/index.html\">\n",
      "href=\"https://www.ya.ru\">\n",
      "href=\"ftp://mail.ru/distib\"\n",
      "href=\"bya.ru\">\n",
      "href=\"http://www.ya.ru\">\n",
      "href=\"www.kya.ru\">\n",
      "href=\"../skip_relative_links\">\n",
      "href=\"http://stepic.org/courses\">\n",
      "href='https://stepic.org'>\n",
      "href='http://neerc.ifmo.ru:1345'>\n",
      "href=\"../skip_relative_links\">\n",
      "href=\"https://examaple.org/files/6a2/72d/e09/6a272de0944f447fb5972c44cc02f795.png\"\n",
      "href=\"http://www.gtu.edu.ge/index_e.htm\"\n"
     ]
    }
   ],
   "source": [
    "#step 0 - dct \n",
    "import re\n",
    "import requests\n",
    "\n",
    "first = 'http://pastebin.com/raw/2mie4QYa'\n",
    "res = requests.get(first)\n",
    "for element in re.findall(r'(href=\\\"\\S+|href=\\'\\S+)',str(res.text)):\n",
    "    print (element)"
   ]
  },
  {
   "cell_type": "code",
   "execution_count": 3,
   "metadata": {},
   "outputs": [
    {
     "name": "stdout",
     "output_type": "stream",
     "text": [
      "<a href=\"http://stepic.org/courses\">\r\n",
      "<a href=\"ftp://www.mya.ru\">\r\n",
      "<a href='https://stepic.org'>\r\n",
      "<a link href='http://neerc.ifmo.ru:1345'>\r\n",
      "<a target=\"blank\" href='http://sasd.ifmo.ru:1345'>\r\n",
      "<a href='http://neerc.ifmo.ru:1345'>\r\n",
      "<a href=\"../some_path/index.html\">\r\n",
      "<a href=\"https://www.ya.ru\">\r\n",
      "<a href=\"ftp://mail.ru/distib\" >\r\n",
      "<a href=\"bya.ru\">\r\n",
      "<a href=\"http://www.ya.ru\">\r\n",
      "<a href=\"www.kya.ru\">\r\n",
      "<a href=\"../skip_relative_links\">\r\n",
      "<a href=\"http://stepic.org/courses\">\r\n",
      "<a class = \"hello\" href= \"http://ftepic.org/courses\" id=\"dfdf\">\r\n",
      "<p class = \"hello\" href= \"http://dtepic.org/courses\">\r\n",
      "<a class = \"hello\" href = \"http://a.b.vc.ttepic.org/courses\">\r\n",
      "<a href='https://stepic.org'>\r\n",
      "<a href='http://neerc.ifmo.ru:1345'>\r\n",
      "<a href = \"ftp://mail.ru/distib\" >\r\n",
      "<a href= \"ya.ru\">\r\n",
      "<a href =\"www.ya.ru\">\r\n",
      "<a href=\"../skip_relative_links\">\r\n",
      "<link rel=\"image_src\" href=\"https://examaple.org/files/6a2/72d/e09/6a272de0944f447fb5972c44cc02f795.png\" />\r\n",
      "<a href=\"http://www.gtu.edu.ge/index_e.htm\" target=\"_top\">Georgian Technical University</a>﻿\n"
     ]
    }
   ],
   "source": [
    "# step 1 - первая группа <a и любой символ в тч пробельный\n",
    "for element in re.findall(r'(<a[\\s\\S]+)', str(res.text)):\n",
    "    print (element)\n"
   ]
  },
  {
   "cell_type": "code",
   "execution_count": 4,
   "metadata": {},
   "outputs": [
    {
     "name": "stdout",
     "output_type": "stream",
     "text": [
      "('<a ', 'href=\"', 'http://stepic.org/courses\">')\n",
      "('<a ', 'href=\"', 'ftp://www.mya.ru\">')\n",
      "('<a ', \"href='\", \"https://stepic.org'>\")\n",
      "('<a link ', \"href='\", \"http://neerc.ifmo.ru:1345'>\")\n",
      "('<a target=\"blank\" ', \"href='\", \"http://sasd.ifmo.ru:1345'>\")\n",
      "('<a ', \"href='\", \"http://neerc.ifmo.ru:1345'>\")\n",
      "('<a ', 'href=\"', '../some_path/index.html\">')\n",
      "('<a ', 'href=\"', 'https://www.ya.ru\">')\n",
      "('<a ', 'href=\"', 'ftp://mail.ru/distib\"')\n",
      "('<a ', 'href=\"', 'bya.ru\">')\n",
      "('<a ', 'href=\"', 'http://www.ya.ru\">')\n",
      "('<a ', 'href=\"', 'www.kya.ru\">')\n",
      "('<a ', 'href=\"', '../skip_relative_links\">')\n",
      "('<a ', 'href=\"', 'http://stepic.org/courses\">')\n",
      "('<a ', \"href='\", \"https://stepic.org'>\")\n",
      "('<a ', \"href='\", \"http://neerc.ifmo.ru:1345'>\")\n",
      "('<a ', 'href=\"', '../skip_relative_links\">')\n",
      "('<a ', 'href=\"', 'http://www.gtu.edu.ge/index_e.htm\"')\n"
     ]
    }
   ],
   "source": [
    "# step 2 - вторая группа после а - любой символ\n",
    "for element in re.findall(r'(<a[\\s\\w\\=\\\"]+)(href=\\'|href=\\\")(\\S+)', str(res.text)):\n",
    "    print (element)\n"
   ]
  },
  {
   "cell_type": "code",
   "execution_count": 5,
   "metadata": {},
   "outputs": [
    {
     "name": "stdout",
     "output_type": "stream",
     "text": [
      "('<a ', 'href=\"', 'http://', 'stepic.org/courses\">')\n",
      "('<a ', 'href=\"', 'ftp://', 'www.mya.ru\">')\n",
      "('<a ', \"href='\", 'https://', \"stepic.org'>\")\n",
      "('<a link ', \"href='\", 'http://', \"neerc.ifmo.ru:1345'>\")\n",
      "('<a target=\"blank\" ', \"href='\", 'http://', \"sasd.ifmo.ru:1345'>\")\n",
      "('<a ', \"href='\", 'http://', \"neerc.ifmo.ru:1345'>\")\n",
      "('<a ', 'href=\"', 'https://', 'www.ya.ru\">')\n",
      "('<a ', 'href=\"', 'ftp://', 'mail.ru/distib\"')\n",
      "('<a ', 'href=\"', 'http://', 'www.ya.ru\">')\n",
      "('<a ', 'href=\"', 'http://', 'stepic.org/courses\">')\n",
      "('<a ', \"href='\", 'https://', \"stepic.org'>\")\n",
      "('<a ', \"href='\", 'http://', \"neerc.ifmo.ru:1345'>\")\n",
      "('<a ', 'href=\"', 'http://', 'www.gtu.edu.ge/index_e.htm\"')\n"
     ]
    }
   ],
   "source": [
    "# step 3 - протоколы - третья группа\n",
    "pattern = r'(<a[\\s\\w\\=\\\"]+)(href=\\'|href=\\\")([\\w\\.\\-\\d]+\\:\\/\\/)(\\S+)'\n",
    "\n",
    "for element in re.findall(pattern, str(res.text)):\n",
    "    print (element)"
   ]
  },
  {
   "cell_type": "code",
   "execution_count": 6,
   "metadata": {},
   "outputs": [
    {
     "name": "stdout",
     "output_type": "stream",
     "text": [
      "('<a ', 'href=\"', 'http://', 'stepic.org')\n",
      "('<a ', 'href=\"', 'ftp://', 'www.mya.ru')\n",
      "('<a ', \"href='\", 'https://', 'stepic.org')\n",
      "('<a link ', \"href='\", 'http://', 'neerc.ifmo.ru')\n",
      "('<a target=\"blank\" ', \"href='\", 'http://', 'sasd.ifmo.ru')\n",
      "('<a ', \"href='\", 'http://', 'neerc.ifmo.ru')\n",
      "('<a ', 'href=\"', 'https://', 'www.ya.ru')\n",
      "('<a ', 'href=\"', 'ftp://', 'mail.ru')\n",
      "('<a ', 'href=\"', 'http://', 'www.ya.ru')\n",
      "('<a ', 'href=\"', 'http://', 'stepic.org')\n",
      "('<a ', \"href='\", 'https://', 'stepic.org')\n",
      "('<a ', \"href='\", 'http://', 'neerc.ifmo.ru')\n",
      "('<a ', 'href=\"', 'http://', 'www.gtu.edu.ge')\n"
     ]
    }
   ],
   "source": [
    "# step 4 - урлы - последняя группа\n",
    "pattern = r'(<a[\\s\\w\\=\\\"]+)(href=\\'|href=\\\")([\\w\\.\\-\\d]+\\:\\/\\/)(\\w[\\w\\-\\.]+)'\n",
    "\n",
    "for element in re.findall(pattern, str(res.text)):\n",
    "    print (element)"
   ]
  },
  {
   "cell_type": "code",
   "execution_count": 10,
   "metadata": {},
   "outputs": [
    {
     "name": "stdout",
     "output_type": "stream",
     "text": [
      "('<a href=\"htt', '', 'p://', 'stepic.org')\n",
      "('', '', '', 'courses')\n",
      "('<a href=\"ft', '', 'p://', 'www.mya.ru')\n",
      "('<a hr', '', '', 'ef')\n",
      "('', '', 'https://', 'stepic.org')\n",
      "('<a link hr', '', '', 'ef')\n",
      "('', '', 'http://', 'neerc.ifmo.ru')\n",
      "('', '', '', '1345')\n",
      "('<a target=\"blank\" hr', '', '', 'ef')\n",
      "('', '', 'http://', 'sasd.ifmo.ru')\n",
      "('', '', '', '1345')\n",
      "('<a hr', '', '', 'ef')\n",
      "('', '', 'http://', 'neerc.ifmo.ru')\n",
      "('', '', '', '1345')\n",
      "('<a hr', '', '', 'ef')\n",
      "('', '', '', 'some_path')\n",
      "('', '', '', 'index.html')\n",
      "('<a href=\"http', '', 's://', 'www.ya.ru')\n",
      "('<a href=\"ft', '', 'p://', 'mail.ru')\n",
      "('', '', '', 'distib')\n",
      "('<a href=\"by', '', '', 'a.ru')\n",
      "('<a href=\"htt', '', 'p://', 'www.ya.ru')\n",
      "('<a href=\"ww', '', '', 'w.kya.ru')\n",
      "('<a hr', '', '', 'ef')\n",
      "('', '', '', 'skip_relative_links')\n",
      "('<a href=\"htt', '', 'p://', 'stepic.org')\n",
      "('', '', '', 'courses')\n",
      "('<a class = \"hello\" href= \"htt', '', 'p://', 'ftepic.org')\n",
      "('', '', '', 'courses')\n",
      "('', '', '', 'id')\n",
      "('', '', '', 'dfdf')\n",
      "('', '', '', 'class')\n",
      "('', '', '', 'hello')\n",
      "('', '', '', 'href')\n",
      "('', '', 'http://', 'dtepic.org')\n",
      "('', '', '', 'courses')\n",
      "('<a class = \"hello\" href = \"htt', '', 'p://', 'a.b.vc.ttepic.org')\n",
      "('', '', '', 'courses')\n",
      "('<a hr', '', '', 'ef')\n",
      "('', '', 'https://', 'stepic.org')\n",
      "('<a hr', '', '', 'ef')\n",
      "('', '', 'http://', 'neerc.ifmo.ru')\n",
      "('', '', '', '1345')\n",
      "('<a href = \"ft', '', 'p://', 'mail.ru')\n",
      "('', '', '', 'distib')\n",
      "('<a href= \"y', '', '', 'a.ru')\n",
      "('<a href =\"ww', '', '', 'w.ya.ru')\n",
      "('<a hr', '', '', 'ef')\n",
      "('', '', '', 'skip_relative_links')\n",
      "('', '', '', 'link')\n",
      "('', '', '', 'rel')\n",
      "('', '', '', 'image_src')\n",
      "('', 'href=\"', 'https://', 'examaple.org')\n",
      "('', '', '', 'files')\n",
      "('', '', '', '6a2')\n",
      "('', '', '', '72d')\n",
      "('', '', '', 'e09')\n",
      "('', '', '', '6a272de0944f447fb5972c44cc02f795.png')\n",
      "('<a href=\"htt', '', 'p://', 'www.gtu.edu.ge')\n",
      "('', '', '', 'index_e.htm')\n",
      "('', '', '', 'target')\n",
      "('', '', '', '_top')\n",
      "('', '', '', 'Georgian')\n",
      "('', '', '', 'Technical')\n",
      "('', '', '', 'University')\n"
     ]
    }
   ],
   "source": [
    "# step 4 - добавляем тех, кого может не быть - ? после скобки\n",
    "pattern = r'(<a[\\s\\w\\=\\\"]+)?(href=\\'|href=\\\")?([\\w\\.\\-\\d]+\\:\\/\\/)?(\\w[\\w\\-\\.]+)'\n",
    "\n",
    "for element in re.findall(pattern, str(res.text)):\n",
    "    print (element)"
   ]
  },
  {
   "cell_type": "code",
   "execution_count": 29,
   "metadata": {},
   "outputs": [
    {
     "name": "stdout",
     "output_type": "stream",
     "text": [
      "stepic.org\n",
      "www.mya.ru\n",
      "stepic.org\n",
      "neerc.ifmo.ru\n",
      "sasd.ifmo.ru\n",
      "neerc.ifmo.ru\n",
      "www.ya.ru\n",
      "mail.ru\n",
      "www.ya.ru\n",
      "stepic.org\n",
      "stepic.org\n",
      "neerc.ifmo.ru\n",
      "www.gtu.edu.ge\n"
     ]
    }
   ],
   "source": [
    "# step 5 скрываем ненужные группы ?:\n",
    "pattern = r'(?:<a[\\s\\w\\=\\\"]+)(?:href=\\'|href=\\\")(?:[\\w\\.\\-\\d]+\\:\\/\\/)(\\w[\\w\\-\\.]+)'\n",
    "\n",
    "for element in re.findall(pattern, str(res.text)):\n",
    "    print (element)"
   ]
  },
  {
   "cell_type": "code",
   "execution_count": 28,
   "metadata": {},
   "outputs": [
    {
     "name": "stdout",
     "output_type": "stream",
     "text": [
      "a.b.vc.ttepic.org\n",
      "examaple.org\n",
      "neerc.ifmo.ru\n",
      "www.gtu.edu.ge\n",
      "ftepic.org\n",
      "mail.ru\n",
      "dtepic.org\n",
      "sasd.ifmo.ru\n",
      "www.mya.ru\n",
      "www.ya.ru\n",
      "stepic.org\n"
     ]
    }
   ],
   "source": [
    "# вывод на печать черчез list comprehention и удаление дубликатов черчез set\n",
    "pattern = r'(?:<a[\\s\\w\\=\\\"]+)?(?:href=\\'|href=\\\")?(?:[\\w\\.\\-\\d]+\\:\\/\\/)(\\w[\\w\\-\\.]+)'\n",
    "answ = \n",
    "_=[print(i) for i in list(set((sorted([i for i in re.findall(r'(?:<a[\\s\\w\\=\\\"]+)?(?:href=\\'|href=\\\")?(?:[\\w\\.\\-\\d]+\\:\\/\\/)(\\w[\\w\\-\\.]+)', str(requests.get(input()).text))]))     ))]"
   ]
  }
 ],
 "metadata": {
  "kernelspec": {
   "display_name": "Python 3",
   "language": "python",
   "name": "python3"
  },
  "language_info": {
   "codemirror_mode": {
    "name": "ipython",
    "version": 3
   },
   "file_extension": ".py",
   "mimetype": "text/x-python",
   "name": "python",
   "nbconvert_exporter": "python",
   "pygments_lexer": "ipython3",
   "version": "3.6.8"
  }
 },
 "nbformat": 4,
 "nbformat_minor": 2
}
