{
 "cells": [
  {
   "cell_type": "markdown",
   "metadata": {},
   "source": [
    "## Manual"
   ]
  },
  {
   "cell_type": "code",
   "execution_count": 60,
   "metadata": {},
   "outputs": [
    {
     "name": "stdout",
     "output_type": "stream",
     "text": [
      "Test #1\n",
      "testcase #1: Fail\n",
      "testcase #2: Ok\n",
      "testcase #3: Ok\n"
     ]
    }
   ],
   "source": [
    "# list sorting\n",
    "# sample with very simple conditions\n",
    "\n",
    "def sort_algorithm(some_list):\n",
    "    pass\n",
    "\n",
    "def test_sort():\n",
    "    print(\"Test #1\")\n",
    "    print(\"testcase #1: \", end=\"\")\n",
    "    A = [4, 2, 5, 1, 3]\n",
    "    A_sorted = [1, 2, 3, 4, 5]\n",
    "    sort_algorithm(A)\n",
    "    passed = A == A_sorted\n",
    "    print(\"Ok\" if passed else \"Fail\")\n",
    "\n",
    "    print(\"testcase #2: \", end=\"\")\n",
    "    A = []\n",
    "    A_sorted = []\n",
    "    sort_algorithm(A)\n",
    "    passed = A == A_sorted\n",
    "    print(\"Ok\" if passed else \"Fail\")\n",
    "\n",
    "    print(\"testcase #3: \", end=\"\")\n",
    "    A = [1, 2, 3, 4, 5]\n",
    "    A_sorted = [1, 2, 3, 4, 5]\n",
    "    sort_algorithm(A)\n",
    "    passed = A == A_sorted\n",
    "    print(\"Ok\" if passed else \"Fail\")\n",
    "  \n",
    "test_sort()"
   ]
  },
  {
   "cell_type": "code",
   "execution_count": 25,
   "metadata": {},
   "outputs": [
    {
     "data": {
      "text/plain": [
       "False"
      ]
     },
     "execution_count": 25,
     "metadata": {},
     "output_type": "execute_result"
    }
   ],
   "source": [
    "# &= condition\n",
    "# логическое И (AND)\n",
    "passed = False\n",
    "passed &= isinstance(1, int)\n",
    "passed"
   ]
  },
  {
   "cell_type": "code",
   "execution_count": 99,
   "metadata": {},
   "outputs": [],
   "source": [
    "# DOCTEST\n",
    "import numpy as np\n",
    "import doctest"
   ]
  },
  {
   "cell_type": "code",
   "execution_count": 98,
   "metadata": {},
   "outputs": [
    {
     "name": "stdout",
     "output_type": "stream",
     "text": [
      "**********************************************************************\n",
      "File \"__main__\", line 4, in __main__.convert_list\n",
      "Failed example:\n",
      "    convert_list([0,1,2])\n",
      "Expected:\n",
      "    array([0,1,2])\n",
      "Got nothing\n",
      "**********************************************************************\n",
      "File \"__main__\", line 7, in __main__.convert_list\n",
      "Failed example:\n",
      "    convert_list([])\n",
      "Expected:\n",
      "    array([], dtype=float64)\n",
      "Got nothing\n",
      "**********************************************************************\n",
      "1 items had failures:\n",
      "   2 of   2 in __main__.convert_list\n",
      "***Test Failed*** 2 failures.\n"
     ]
    },
    {
     "data": {
      "text/plain": [
       "TestResults(failed=2, attempted=2)"
      ]
     },
     "execution_count": 98,
     "metadata": {},
     "output_type": "execute_result"
    }
   ],
   "source": [
    "def convert_list(some_list):\n",
    "    \"\"\"\"\"\n",
    "    \n",
    "    >>> convert_list([0,1,2])\n",
    "    array([0,1,2])\n",
    "    \n",
    "    >>> convert_list([])\n",
    "    array([], dtype=float64)\n",
    "    \n",
    "    \"\"\"\"\"\n",
    "    pass\n",
    "\n",
    "doctest.testmod()"
   ]
  },
  {
   "cell_type": "markdown",
   "metadata": {},
   "source": [
    "## Unittest"
   ]
  },
  {
   "cell_type": "code",
   "execution_count": 82,
   "metadata": {},
   "outputs": [],
   "source": [
    "import unittest\n",
    "import math\n",
    "\n",
    "# неправильно работающая функция\n",
    "\n",
    "def factorize(x):\n",
    "    \n",
    "    def _is_simple(k):    \n",
    "        prime = True\n",
    "\n",
    "        for i in range(2, k):\n",
    "            if k%i == 0:\n",
    "                prime = False\n",
    "                break\n",
    "        return prime\n",
    "    \n",
    "    def _factor(n):\n",
    "        ans = [x for x in range(1, n+1) if n % x == 0]\n",
    "        return tuple(ans[1:-1])    \n",
    "    \n",
    "    except_types = [str, float]\n",
    "    if type(x) in except_types:\n",
    "        raise TypeError\n",
    "        \n",
    "    if x<0:\n",
    "        raise ValueError\n",
    "        \n",
    "    numbers = [1,0]\n",
    "    for i in numbers:\n",
    "        if x == i:\n",
    "            return (i,)\n",
    "        \n",
    "    if _is_simple(x):\n",
    "        return (x,)\n",
    "    else:\n",
    "        return (_factor(x))\n"
   ]
  },
  {
   "cell_type": "code",
   "execution_count": 90,
   "metadata": {},
   "outputs": [
    {
     "name": "stderr",
     "output_type": "stream",
     "text": [
      "test_many_multipliers (__main__.TestFactorize) ... test_negative (__main__.TestFactorize) ... ok\n",
      "test_simple_numbers (__main__.TestFactorize) ... ok\n",
      "test_two_simple_multipliers (__main__.TestFactorize) ... test_wrong_types_raise_exception (__main__.TestFactorize) ... ok\n",
      "test_zero_and_one_cases (__main__.TestFactorize) ... ok\n",
      "\n",
      "======================================================================\n",
      "FAIL: test_many_multipliers (__main__.TestFactorize) (x=1001)\n",
      "----------------------------------------------------------------------\n",
      "Traceback (most recent call last):\n",
      "  File \"<ipython-input-90-d82e8d533f27>\", line 42, in test_many_multipliers\n",
      "    self.assertEqual(factorize(x), expected)\n",
      "AssertionError: Tuples differ: (7, 11, 13, 77, 91, 143) != (7, 11, 13)\n",
      "\n",
      "First tuple contains 3 additional elements.\n",
      "First extra element 3:\n",
      "77\n",
      "\n",
      "- (7, 11, 13, 77, 91, 143)\n",
      "+ (7, 11, 13)\n",
      "\n",
      "======================================================================\n",
      "FAIL: test_many_multipliers (__main__.TestFactorize) (x=9699690)\n",
      "----------------------------------------------------------------------\n",
      "Traceback (most recent call last):\n",
      "  File \"<ipython-input-90-d82e8d533f27>\", line 42, in test_many_multipliers\n",
      "    self.assertEqual(factorize(x), expected)\n",
      "AssertionError: Tuples differ: (2, 3, 5, 6, 7, 10, 11, 13, 14, 15, 17, 19, 21, 22,[1468 chars]9845) != (2, 3, 5, 7, 11, 13, 17, 19)\n",
      "\n",
      "First differing element 3:\n",
      "6\n",
      "7\n",
      "\n",
      "First tuple contains 246 additional elements.\n",
      "First extra element 8:\n",
      "14\n",
      "\n",
      "Diff is 2317 characters long. Set self.maxDiff to None to see it.\n",
      "\n",
      "======================================================================\n",
      "FAIL: test_two_simple_multipliers (__main__.TestFactorize) (case=121)\n",
      "----------------------------------------------------------------------\n",
      "Traceback (most recent call last):\n",
      "  File \"<ipython-input-90-d82e8d533f27>\", line 33, in test_two_simple_multipliers\n",
      "    self.assertEqual(factorize(x), correct)\n",
      "AssertionError: Tuples differ: (11,) != (2, 3, 5, 7, 11, 13, 17, 19)\n",
      "\n",
      "First differing element 0:\n",
      "11\n",
      "2\n",
      "\n",
      "Second tuple contains 7 additional elements.\n",
      "First extra element 1:\n",
      "3\n",
      "\n",
      "- (11,)\n",
      "+ (2, 3, 5, 7, 11, 13, 17, 19)\n",
      "\n",
      "----------------------------------------------------------------------\n",
      "Ran 6 tests in 0.913s\n",
      "\n",
      "FAILED (failures=3)\n"
     ]
    },
    {
     "data": {
      "text/plain": [
       "<unittest.main.TestProgram at 0x7f141b3d0438>"
      ]
     },
     "execution_count": 90,
     "metadata": {},
     "output_type": "execute_result"
    }
   ],
   "source": [
    "class TestFactorize(unittest.TestCase):\n",
    "    \n",
    "    # пример проверки вызова исключения\n",
    "    def test_wrong_types_raise_exception(self):\n",
    "        cases = ['string',  1.5]\n",
    "        for x in cases:\n",
    "            with self.subTest(case=x):\n",
    "                self.assertRaises(TypeError,factorize, x)\n",
    "\n",
    "    def test_negative(self):\n",
    "        cases = [-1,  -10,  -100]\n",
    "        for x in cases:\n",
    "            with self.subTest(case=x):\n",
    "                self.assertRaises(ValueError, factorize, x)   \n",
    "    \n",
    "    # соответствие ожидания и результата\n",
    "    def test_zero_and_one_cases(self):\n",
    "        cases = [1,0]\n",
    "        for x in cases:\n",
    "            with self.subTest(case=x):\n",
    "                self.assertEqual(factorize(x), (x,))\n",
    "            \n",
    "    def test_simple_numbers(self):\n",
    "        cases = [3,13,19]\n",
    "        for x in cases:\n",
    "            with self.subTest(case=x):\n",
    "                self.assertEqual(factorize(x), (x,))\n",
    "            \n",
    "    def test_two_simple_multipliers(self):\n",
    "        cases = {6:(2,3),26:(2,13),121:(2, 3, 5, 7, 11, 13, 17, 19)}\n",
    "        for x in cases:\n",
    "            with self.subTest(case=x):\n",
    "                correct = cases[x]\n",
    "                self.assertEqual(factorize(x), correct)\n",
    "    \n",
    "    def test_many_multipliers(self):\n",
    "        test_cases = (\n",
    "            (1001, (7, 11, 13)),\n",
    "            (9699690, (2, 3, 5, 7, 11, 13, 17, 19)),\n",
    "        )\n",
    "        for x, expected in test_cases:\n",
    "            with self.subTest(x=x):\n",
    "                self.assertEqual(factorize(x), expected) \n",
    "    \n",
    "    \n",
    "        \n",
    "unittest.main(argv=[''], verbosity=2, exit=False)"
   ]
  },
  {
   "cell_type": "code",
   "execution_count": null,
   "metadata": {},
   "outputs": [],
   "source": []
  }
 ],
 "metadata": {
  "kernelspec": {
   "display_name": "Python 3",
   "language": "python",
   "name": "python3"
  },
  "language_info": {
   "codemirror_mode": {
    "name": "ipython",
    "version": 3
   },
   "file_extension": ".py",
   "mimetype": "text/x-python",
   "name": "python",
   "nbconvert_exporter": "python",
   "pygments_lexer": "ipython3",
   "version": "3.6.8"
  }
 },
 "nbformat": 4,
 "nbformat_minor": 2
}
